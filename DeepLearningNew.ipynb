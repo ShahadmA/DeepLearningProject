{
 "cells": [
  {
   "cell_type": "markdown",
   "id": "f330a3ec",
   "metadata": {},
   "source": [
    "# Import Libraries"
   ]
  },
  {
   "cell_type": "code",
   "execution_count": 27,
   "id": "6bb843af",
   "metadata": {},
   "outputs": [],
   "source": [
    "from tensorflow.keras.applications.mobilenet_v2 import preprocess_input\n",
    "from tensorflow.keras.preprocessing.image import ImageDataGenerator\n",
    "from tensorflow.keras.preprocessing.image import img_to_array\n",
    "from tensorflow.keras.preprocessing.image import load_img\n",
    "from tensorflow.keras.applications import MobileNetV2\n",
    "from sklearn.model_selection import train_test_split\n",
    "from tensorflow.keras.layers import AveragePooling2D\n",
    "from sklearn.metrics import classification_report\n",
    "from tensorflow.keras.utils import to_categorical\n",
    "from sklearn.preprocessing import LabelBinarizer\n",
    "from keras_applications.resnet import ResNet50\n",
    "from tensorflow.keras.optimizers import Adam\n",
    "from tensorflow.keras.layers import Dropout\n",
    "from tensorflow.keras.layers import Flatten\n",
    "from tensorflow.keras.layers import Dense\n",
    "from tensorflow.keras.layers import Input\n",
    "from tensorflow.keras.models import Model\n",
    "from keras.models import Sequential\n",
    "import matplotlib.pyplot as plt\n",
    "from imutils import paths\n",
    "import tensorflow as tf\n",
    "import seaborn as sns\n",
    "import pandas as pd\n",
    "import numpy as np\n",
    "import os"
   ]
  },
  {
   "cell_type": "markdown",
   "id": "97c96bb9",
   "metadata": {},
   "source": [
    "# Uploading Dataset"
   ]
  },
  {
   "cell_type": "code",
   "execution_count": 10,
   "id": "c0de2de2",
   "metadata": {},
   "outputs": [],
   "source": [
    "dataset_path=r'C:\\Users\\shaha\\Desktop\\dataset\\training_data'"
   ]
  },
  {
   "cell_type": "code",
   "execution_count": 11,
   "id": "31703bd8",
   "metadata": {},
   "outputs": [],
   "source": [
    "imagePaths = list(paths.list_images(dataset_path))"
   ]
  },
  {
   "cell_type": "markdown",
   "id": "1c8aaf0d",
   "metadata": {},
   "source": [
    "# Preprocessing"
   ]
  },
  {
   "cell_type": "code",
   "execution_count": 12,
   "id": "7273628c",
   "metadata": {},
   "outputs": [
    {
     "name": "stderr",
     "output_type": "stream",
     "text": [
      "C:\\Users\\shaha\\anaconda3\\lib\\site-packages\\PIL\\Image.py:962: UserWarning: Palette images with Transparency expressed in bytes should be converted to RGBA images\n",
      "  warnings.warn(\n"
     ]
    }
   ],
   "source": [
    "data = []\n",
    "labels = []\n",
    "for imagePath in imagePaths:\n",
    "    label = imagePath.split(os.path.sep)[-2]\n",
    "    image = load_img(imagePath, target_size=(224, 224))\n",
    "    image = img_to_array(image)\n",
    "    image = preprocess_input(image)\n",
    "    data.append(image)\n",
    "    labels.append(label)\n",
    "data = np.array(data, dtype=\"float32\")\n",
    "labels = np.array(labels)\n",
    "lb = LabelBinarizer()\n",
    "labels = lb.fit_transform(labels)\n",
    "labels = to_categorical(labels)"
   ]
  },
  {
   "cell_type": "code",
   "execution_count": 13,
   "id": "e76f9e60",
   "metadata": {},
   "outputs": [],
   "source": [
    "(X_train, X_val, y_train, y_val) = train_test_split(data, labels,test_size=0.20, stratify=labels, random_state=42)"
   ]
  },
  {
   "cell_type": "code",
   "execution_count": 14,
   "id": "13407f74",
   "metadata": {},
   "outputs": [],
   "source": [
    "aug = ImageDataGenerator(\n",
    "    rotation_range=20,\n",
    "    zoom_range=0.15,\n",
    "    width_shift_range=0.2,\n",
    "    height_shift_range=0.2,\n",
    "    shear_range=0.15,\n",
    "    horizontal_flip=True,\n",
    "    fill_mode=\"nearest\")"
   ]
  },
  {
   "cell_type": "code",
   "execution_count": null,
   "id": "707239d4",
   "metadata": {},
   "outputs": [],
   "source": [
    "INIT_LR = 1e-4\n",
    "EPOCHS = 100\n",
    "BS = 32"
   ]
  },
  {
   "cell_type": "markdown",
   "id": "115a57d8",
   "metadata": {},
   "source": [
    "# 1- MobileNet"
   ]
  },
  {
   "cell_type": "code",
   "execution_count": 15,
   "id": "2e2a35df",
   "metadata": {},
   "outputs": [
    {
     "name": "stdout",
     "output_type": "stream",
     "text": [
      "WARNING:tensorflow:`input_shape` is undefined or non-square, or `rows` is not in [96, 128, 160, 192, 224]. Weights for input shape (224, 224) will be loaded as the default.\n"
     ]
    },
    {
     "name": "stderr",
     "output_type": "stream",
     "text": [
      "C:\\Users\\shaha\\anaconda3\\lib\\site-packages\\keras\\optimizer_v2\\adam.py:105: UserWarning: The `lr` argument is deprecated, use `learning_rate` instead.\n",
      "  super(Adam, self).__init__(name, **kwargs)\n"
     ]
    }
   ],
   "source": [
    "baseModel = MobileNetV2(weights=\"imagenet\", include_top=False,input_tensor=Input(shape=(224, 224, 3)))\n",
    "\n",
    "headModel = baseModel.output\n",
    "headModel = AveragePooling2D(pool_size=(7, 7))(headModel)\n",
    "headModel = Flatten(name=\"flatten\")(headModel)\n",
    "headModel = Dense(128, activation=\"relu\")(headModel)\n",
    "headModel = Dropout(0.5)(headModel)\n",
    "headModel = Dense(2, activation=\"softmax\")(headModel)\n",
    "model = Model(inputs=baseModel.input, outputs=headModel)\n",
    "\n",
    "for layer in baseModel.layers:\n",
    "    layer.trainable = False\n",
    "opt = Adam(lr=INIT_LR, decay=INIT_LR / EPOCHS)\n",
    "model.compile(loss=\"binary_crossentropy\", optimizer=opt,metrics=[\"accuracy\"])"
   ]
  },
  {
   "cell_type": "code",
   "execution_count": 16,
   "id": "d988035c",
   "metadata": {},
   "outputs": [
    {
     "name": "stdout",
     "output_type": "stream",
     "text": [
      "Epoch 1/100\n",
      "139/139 [==============================] - 539s 4s/step - loss: 0.6825 - accuracy: 0.6331 - val_loss: 0.5552 - val_accuracy: 0.7484\n",
      "Epoch 2/100\n",
      "139/139 [==============================] - 407s 3s/step - loss: 0.5610 - accuracy: 0.7320 - val_loss: 0.4870 - val_accuracy: 0.7960\n",
      "Epoch 3/100\n",
      "139/139 [==============================] - 281s 2s/step - loss: 0.5127 - accuracy: 0.7666 - val_loss: 0.4488 - val_accuracy: 0.8212\n",
      "Epoch 4/100\n",
      "139/139 [==============================] - 334s 2s/step - loss: 0.4891 - accuracy: 0.7841 - val_loss: 0.4284 - val_accuracy: 0.8284\n",
      "Epoch 5/100\n",
      "139/139 [==============================] - 331s 2s/step - loss: 0.4769 - accuracy: 0.7895 - val_loss: 0.4155 - val_accuracy: 0.8347\n",
      "Epoch 6/100\n",
      "139/139 [==============================] - 348s 3s/step - loss: 0.4473 - accuracy: 0.8105 - val_loss: 0.3999 - val_accuracy: 0.8329\n",
      "Epoch 7/100\n",
      "139/139 [==============================] - 288s 2s/step - loss: 0.4328 - accuracy: 0.8117 - val_loss: 0.3910 - val_accuracy: 0.8392\n",
      "Epoch 8/100\n",
      "139/139 [==============================] - 289s 2s/step - loss: 0.4270 - accuracy: 0.8117 - val_loss: 0.3827 - val_accuracy: 0.8437\n",
      "Epoch 9/100\n",
      "139/139 [==============================] - 285s 2s/step - loss: 0.4167 - accuracy: 0.8253 - val_loss: 0.3734 - val_accuracy: 0.8446\n",
      "Epoch 10/100\n",
      "139/139 [==============================] - 284s 2s/step - loss: 0.4097 - accuracy: 0.8284 - val_loss: 0.3701 - val_accuracy: 0.8347\n",
      "Epoch 11/100\n",
      "139/139 [==============================] - 279s 2s/step - loss: 0.4018 - accuracy: 0.8321 - val_loss: 0.3675 - val_accuracy: 0.8365\n",
      "Epoch 12/100\n",
      "139/139 [==============================] - 276s 2s/step - loss: 0.4014 - accuracy: 0.8300 - val_loss: 0.3643 - val_accuracy: 0.8383\n",
      "Epoch 13/100\n",
      "139/139 [==============================] - 282s 2s/step - loss: 0.3944 - accuracy: 0.8323 - val_loss: 0.3576 - val_accuracy: 0.8455\n",
      "Epoch 14/100\n",
      "139/139 [==============================] - 282s 2s/step - loss: 0.3851 - accuracy: 0.8359 - val_loss: 0.3527 - val_accuracy: 0.8509\n",
      "Epoch 15/100\n",
      "139/139 [==============================] - 276s 2s/step - loss: 0.3844 - accuracy: 0.8309 - val_loss: 0.3501 - val_accuracy: 0.8482\n",
      "Epoch 16/100\n",
      "139/139 [==============================] - 280s 2s/step - loss: 0.3712 - accuracy: 0.8416 - val_loss: 0.3465 - val_accuracy: 0.8473\n",
      "Epoch 17/100\n",
      "139/139 [==============================] - 225s 2s/step - loss: 0.3734 - accuracy: 0.8434 - val_loss: 0.3524 - val_accuracy: 0.8464\n",
      "Epoch 18/100\n",
      "139/139 [==============================] - 210s 2s/step - loss: 0.3595 - accuracy: 0.8506 - val_loss: 0.3432 - val_accuracy: 0.8518\n",
      "Epoch 19/100\n",
      "139/139 [==============================] - 215s 2s/step - loss: 0.3606 - accuracy: 0.8493 - val_loss: 0.3373 - val_accuracy: 0.8553\n",
      "Epoch 20/100\n",
      "139/139 [==============================] - 212s 2s/step - loss: 0.3576 - accuracy: 0.8551 - val_loss: 0.3329 - val_accuracy: 0.8589\n",
      "Epoch 21/100\n",
      "139/139 [==============================] - 215s 2s/step - loss: 0.3561 - accuracy: 0.8504 - val_loss: 0.3315 - val_accuracy: 0.8598\n",
      "Epoch 22/100\n",
      "139/139 [==============================] - 213s 2s/step - loss: 0.3428 - accuracy: 0.8590 - val_loss: 0.3289 - val_accuracy: 0.8616\n",
      "Epoch 23/100\n",
      "139/139 [==============================] - 215s 2s/step - loss: 0.3439 - accuracy: 0.8588 - val_loss: 0.3266 - val_accuracy: 0.8607\n",
      "Epoch 24/100\n",
      "139/139 [==============================] - 212s 2s/step - loss: 0.3458 - accuracy: 0.8597 - val_loss: 0.3245 - val_accuracy: 0.8625\n",
      "Epoch 25/100\n",
      "139/139 [==============================] - 214s 2s/step - loss: 0.3265 - accuracy: 0.8658 - val_loss: 0.3217 - val_accuracy: 0.8661\n",
      "Epoch 26/100\n",
      "139/139 [==============================] - 218s 2s/step - loss: 0.3237 - accuracy: 0.8640 - val_loss: 0.3225 - val_accuracy: 0.8634\n",
      "Epoch 27/100\n",
      "139/139 [==============================] - 224s 2s/step - loss: 0.3324 - accuracy: 0.8599 - val_loss: 0.3345 - val_accuracy: 0.8571\n",
      "Epoch 28/100\n",
      "139/139 [==============================] - 8835s 64s/step - loss: 0.3226 - accuracy: 0.8665 - val_loss: 0.3240 - val_accuracy: 0.8616\n",
      "Epoch 29/100\n",
      "139/139 [==============================] - 374s 3s/step - loss: 0.3157 - accuracy: 0.8701 - val_loss: 0.3265 - val_accuracy: 0.8616\n",
      "Epoch 30/100\n",
      "139/139 [==============================] - 233s 2s/step - loss: 0.3155 - accuracy: 0.8748 - val_loss: 0.3120 - val_accuracy: 0.8670\n",
      "Epoch 31/100\n",
      "139/139 [==============================] - 246s 2s/step - loss: 0.3108 - accuracy: 0.8726 - val_loss: 0.3128 - val_accuracy: 0.8661\n",
      "Epoch 32/100\n",
      "139/139 [==============================] - 220s 2s/step - loss: 0.3160 - accuracy: 0.8739 - val_loss: 0.3132 - val_accuracy: 0.8679\n",
      "Epoch 33/100\n",
      "139/139 [==============================] - 214s 2s/step - loss: 0.3064 - accuracy: 0.8785 - val_loss: 0.3135 - val_accuracy: 0.8724\n",
      "Epoch 34/100\n",
      "139/139 [==============================] - 212s 2s/step - loss: 0.2961 - accuracy: 0.8832 - val_loss: 0.3174 - val_accuracy: 0.8706\n",
      "Epoch 35/100\n",
      "139/139 [==============================] - 211s 2s/step - loss: 0.3082 - accuracy: 0.8778 - val_loss: 0.3059 - val_accuracy: 0.8706\n",
      "Epoch 36/100\n",
      "139/139 [==============================] - 215s 2s/step - loss: 0.2984 - accuracy: 0.8794 - val_loss: 0.3075 - val_accuracy: 0.8715\n",
      "Epoch 37/100\n",
      "139/139 [==============================] - 212s 2s/step - loss: 0.3039 - accuracy: 0.8748 - val_loss: 0.3020 - val_accuracy: 0.8697\n",
      "Epoch 38/100\n",
      "139/139 [==============================] - 215s 2s/step - loss: 0.2947 - accuracy: 0.8803 - val_loss: 0.3015 - val_accuracy: 0.8751\n",
      "Epoch 39/100\n",
      "139/139 [==============================] - 218s 2s/step - loss: 0.2969 - accuracy: 0.8841 - val_loss: 0.3031 - val_accuracy: 0.8769\n",
      "Epoch 40/100\n",
      "139/139 [==============================] - 216s 2s/step - loss: 0.2814 - accuracy: 0.8889 - val_loss: 0.3063 - val_accuracy: 0.8796\n",
      "Epoch 41/100\n",
      "139/139 [==============================] - 239s 2s/step - loss: 0.2826 - accuracy: 0.8857 - val_loss: 0.2977 - val_accuracy: 0.8832\n",
      "Epoch 42/100\n",
      "139/139 [==============================] - 242s 2s/step - loss: 0.2953 - accuracy: 0.8818 - val_loss: 0.2956 - val_accuracy: 0.8814\n",
      "Epoch 43/100\n",
      "139/139 [==============================] - 324s 2s/step - loss: 0.2845 - accuracy: 0.8904 - val_loss: 0.2976 - val_accuracy: 0.8895\n",
      "Epoch 44/100\n",
      "139/139 [==============================] - 272s 2s/step - loss: 0.2801 - accuracy: 0.8938 - val_loss: 0.2921 - val_accuracy: 0.8859\n",
      "Epoch 45/100\n",
      "139/139 [==============================] - 241s 2s/step - loss: 0.2756 - accuracy: 0.8923 - val_loss: 0.3021 - val_accuracy: 0.8796\n",
      "Epoch 46/100\n",
      "139/139 [==============================] - 236s 2s/step - loss: 0.2788 - accuracy: 0.8855 - val_loss: 0.2912 - val_accuracy: 0.8868\n",
      "Epoch 47/100\n",
      "139/139 [==============================] - 235s 2s/step - loss: 0.2771 - accuracy: 0.8916 - val_loss: 0.2893 - val_accuracy: 0.8886\n",
      "Epoch 48/100\n",
      "139/139 [==============================] - 214s 2s/step - loss: 0.2614 - accuracy: 0.9009 - val_loss: 0.2919 - val_accuracy: 0.8922\n",
      "Epoch 49/100\n",
      "139/139 [==============================] - 214s 2s/step - loss: 0.2641 - accuracy: 0.8950 - val_loss: 0.2895 - val_accuracy: 0.8814\n",
      "Epoch 50/100\n",
      "139/139 [==============================] - 214s 2s/step - loss: 0.2723 - accuracy: 0.8975 - val_loss: 0.2900 - val_accuracy: 0.8832\n",
      "Epoch 51/100\n",
      "139/139 [==============================] - 211s 2s/step - loss: 0.2625 - accuracy: 0.8961 - val_loss: 0.2903 - val_accuracy: 0.8823\n",
      "Epoch 52/100\n",
      "139/139 [==============================] - 208s 1s/step - loss: 0.2618 - accuracy: 0.8997 - val_loss: 0.2886 - val_accuracy: 0.8859\n",
      "Epoch 53/100\n",
      "139/139 [==============================] - 211s 2s/step - loss: 0.2552 - accuracy: 0.8970 - val_loss: 0.2877 - val_accuracy: 0.8850\n",
      "Epoch 54/100\n",
      "139/139 [==============================] - 212s 2s/step - loss: 0.2484 - accuracy: 0.9040 - val_loss: 0.2892 - val_accuracy: 0.8868\n",
      "Epoch 55/100\n",
      "139/139 [==============================] - 207s 1s/step - loss: 0.2403 - accuracy: 0.9038 - val_loss: 0.2914 - val_accuracy: 0.8805\n",
      "Epoch 56/100\n",
      "139/139 [==============================] - 208s 1s/step - loss: 0.2522 - accuracy: 0.9004 - val_loss: 0.2853 - val_accuracy: 0.8895\n",
      "Epoch 57/100\n"
     ]
    },
    {
     "name": "stdout",
     "output_type": "stream",
     "text": [
      "139/139 [==============================] - 210s 2s/step - loss: 0.2529 - accuracy: 0.8977 - val_loss: 0.2827 - val_accuracy: 0.8823\n",
      "Epoch 58/100\n",
      "139/139 [==============================] - 207s 1s/step - loss: 0.2538 - accuracy: 0.9077 - val_loss: 0.2878 - val_accuracy: 0.8859\n",
      "Epoch 59/100\n",
      "139/139 [==============================] - 212s 2s/step - loss: 0.2515 - accuracy: 0.9006 - val_loss: 0.2807 - val_accuracy: 0.8868\n",
      "Epoch 60/100\n",
      "139/139 [==============================] - 209s 2s/step - loss: 0.2365 - accuracy: 0.9063 - val_loss: 0.2894 - val_accuracy: 0.8823\n",
      "Epoch 61/100\n",
      "139/139 [==============================] - 207s 1s/step - loss: 0.2374 - accuracy: 0.9043 - val_loss: 0.2854 - val_accuracy: 0.8841\n",
      "Epoch 62/100\n",
      "139/139 [==============================] - 208s 1s/step - loss: 0.2390 - accuracy: 0.9079 - val_loss: 0.2813 - val_accuracy: 0.8850\n",
      "Epoch 63/100\n",
      "139/139 [==============================] - 207s 1s/step - loss: 0.2393 - accuracy: 0.9086 - val_loss: 0.2808 - val_accuracy: 0.8868\n",
      "Epoch 64/100\n",
      "139/139 [==============================] - 207s 1s/step - loss: 0.2326 - accuracy: 0.9095 - val_loss: 0.2771 - val_accuracy: 0.8931\n",
      "Epoch 65/100\n",
      "139/139 [==============================] - 212s 2s/step - loss: 0.2338 - accuracy: 0.9083 - val_loss: 0.2804 - val_accuracy: 0.8949\n",
      "Epoch 66/100\n",
      "139/139 [==============================] - 211s 2s/step - loss: 0.2258 - accuracy: 0.9095 - val_loss: 0.2771 - val_accuracy: 0.8922\n",
      "Epoch 67/100\n",
      "139/139 [==============================] - 209s 2s/step - loss: 0.2196 - accuracy: 0.9153 - val_loss: 0.2797 - val_accuracy: 0.8922\n",
      "Epoch 68/100\n",
      "139/139 [==============================] - 211s 2s/step - loss: 0.2372 - accuracy: 0.9072 - val_loss: 0.2752 - val_accuracy: 0.8931\n",
      "Epoch 69/100\n",
      "139/139 [==============================] - 210s 2s/step - loss: 0.2260 - accuracy: 0.9120 - val_loss: 0.2750 - val_accuracy: 0.8922\n",
      "Epoch 70/100\n",
      "139/139 [==============================] - 223s 2s/step - loss: 0.2292 - accuracy: 0.9156 - val_loss: 0.2756 - val_accuracy: 0.8895\n",
      "Epoch 71/100\n",
      "139/139 [==============================] - 248s 2s/step - loss: 0.2151 - accuracy: 0.9210 - val_loss: 0.2747 - val_accuracy: 0.8976\n",
      "Epoch 72/100\n",
      "139/139 [==============================] - 236s 2s/step - loss: 0.2267 - accuracy: 0.9108 - val_loss: 0.2758 - val_accuracy: 0.8940\n",
      "Epoch 73/100\n",
      "139/139 [==============================] - 238s 2s/step - loss: 0.2220 - accuracy: 0.9151 - val_loss: 0.2745 - val_accuracy: 0.8913\n",
      "Epoch 74/100\n",
      "139/139 [==============================] - 245s 2s/step - loss: 0.2112 - accuracy: 0.9221 - val_loss: 0.2769 - val_accuracy: 0.8814\n",
      "Epoch 75/100\n",
      "139/139 [==============================] - 240s 2s/step - loss: 0.2155 - accuracy: 0.9185 - val_loss: 0.2693 - val_accuracy: 0.8868\n",
      "Epoch 76/100\n",
      "139/139 [==============================] - 231s 2s/step - loss: 0.2075 - accuracy: 0.9215 - val_loss: 0.2771 - val_accuracy: 0.8886\n",
      "Epoch 77/100\n",
      "139/139 [==============================] - 255s 2s/step - loss: 0.2071 - accuracy: 0.9217 - val_loss: 0.2706 - val_accuracy: 0.8904\n",
      "Epoch 78/100\n",
      "139/139 [==============================] - 233s 2s/step - loss: 0.2016 - accuracy: 0.9246 - val_loss: 0.2742 - val_accuracy: 0.8913\n",
      "Epoch 79/100\n",
      "139/139 [==============================] - 237s 2s/step - loss: 0.1996 - accuracy: 0.9226 - val_loss: 0.2721 - val_accuracy: 0.8949\n",
      "Epoch 80/100\n",
      "139/139 [==============================] - 223s 2s/step - loss: 0.2082 - accuracy: 0.9235 - val_loss: 0.2727 - val_accuracy: 0.8940\n",
      "Epoch 81/100\n",
      "139/139 [==============================] - 225s 2s/step - loss: 0.2046 - accuracy: 0.9264 - val_loss: 0.2725 - val_accuracy: 0.8904\n",
      "Epoch 82/100\n",
      "139/139 [==============================] - 227s 2s/step - loss: 0.1930 - accuracy: 0.9267 - val_loss: 0.2690 - val_accuracy: 0.8985\n",
      "Epoch 83/100\n",
      "139/139 [==============================] - 214s 2s/step - loss: 0.1949 - accuracy: 0.9305 - val_loss: 0.2728 - val_accuracy: 0.8931\n",
      "Epoch 84/100\n",
      "139/139 [==============================] - 215s 2s/step - loss: 0.2036 - accuracy: 0.9206 - val_loss: 0.2712 - val_accuracy: 0.8958\n",
      "Epoch 85/100\n",
      "139/139 [==============================] - 214s 2s/step - loss: 0.1955 - accuracy: 0.9285 - val_loss: 0.2659 - val_accuracy: 0.8949\n",
      "Epoch 86/100\n",
      "139/139 [==============================] - 215s 2s/step - loss: 0.1919 - accuracy: 0.9242 - val_loss: 0.2700 - val_accuracy: 0.8913\n",
      "Epoch 87/100\n",
      "139/139 [==============================] - 214s 2s/step - loss: 0.1881 - accuracy: 0.9307 - val_loss: 0.2722 - val_accuracy: 0.8940\n",
      "Epoch 88/100\n",
      "139/139 [==============================] - 213s 2s/step - loss: 0.1882 - accuracy: 0.9335 - val_loss: 0.2715 - val_accuracy: 0.8940\n",
      "Epoch 89/100\n",
      "139/139 [==============================] - 214s 2s/step - loss: 0.1898 - accuracy: 0.9251 - val_loss: 0.2689 - val_accuracy: 0.8913\n",
      "Epoch 90/100\n",
      "139/139 [==============================] - 217s 2s/step - loss: 0.1918 - accuracy: 0.9301 - val_loss: 0.2749 - val_accuracy: 0.8877\n",
      "Epoch 91/100\n",
      "139/139 [==============================] - 217s 2s/step - loss: 0.1881 - accuracy: 0.9267 - val_loss: 0.2682 - val_accuracy: 0.8850\n",
      "Epoch 92/100\n",
      "139/139 [==============================] - 216s 2s/step - loss: 0.1847 - accuracy: 0.9328 - val_loss: 0.2716 - val_accuracy: 0.8832\n",
      "Epoch 93/100\n",
      "139/139 [==============================] - 215s 2s/step - loss: 0.1867 - accuracy: 0.9330 - val_loss: 0.2688 - val_accuracy: 0.8886\n",
      "Epoch 94/100\n",
      "139/139 [==============================] - 219s 2s/step - loss: 0.1804 - accuracy: 0.9294 - val_loss: 0.2696 - val_accuracy: 0.8940\n",
      "Epoch 95/100\n",
      "139/139 [==============================] - 214s 2s/step - loss: 0.1771 - accuracy: 0.9341 - val_loss: 0.2664 - val_accuracy: 0.8985\n",
      "Epoch 96/100\n",
      "139/139 [==============================] - 218s 2s/step - loss: 0.1771 - accuracy: 0.9353 - val_loss: 0.2665 - val_accuracy: 0.8922\n",
      "Epoch 97/100\n",
      "139/139 [==============================] - 209s 2s/step - loss: 0.1828 - accuracy: 0.9310 - val_loss: 0.2642 - val_accuracy: 0.8949\n",
      "Epoch 98/100\n",
      "139/139 [==============================] - 209s 2s/step - loss: 0.1741 - accuracy: 0.9364 - val_loss: 0.2623 - val_accuracy: 0.8985\n",
      "Epoch 99/100\n",
      "139/139 [==============================] - 208s 1s/step - loss: 0.1780 - accuracy: 0.9303 - val_loss: 0.2620 - val_accuracy: 0.9021\n",
      "Epoch 100/100\n",
      "139/139 [==============================] - 209s 2s/step - loss: 0.1759 - accuracy: 0.9344 - val_loss: 0.2650 - val_accuracy: 0.8976\n"
     ]
    }
   ],
   "source": [
    "H = model.fit(\n",
    "    aug.flow(X_train, y_train, batch_size=BS),\n",
    "    steps_per_epoch=len(X_train) // BS,\n",
    "    validation_data=(X_val, y_val),\n",
    "    validation_steps=len(X_val) // BS,\n",
    "    epochs=EPOCHS)"
   ]
  },
  {
   "cell_type": "code",
   "execution_count": 17,
   "id": "b0b5d5e3",
   "metadata": {},
   "outputs": [
    {
     "data": {
      "image/png": "[encoded data removed]",
      "text/plain": [
       "<Figure size 720x288 with 2 Axes>"
      ]
     },
     "metadata": {
      "needs_background": "light"
     },
     "output_type": "display_data"
    }
   ],
   "source": [
    "acc = H.history['accuracy']\n",
    "val_acc = H.history['val_accuracy']\n",
    "\n",
    "loss = H.history['loss']\n",
    "val_loss = H.history['val_loss']\n",
    "\n",
    "epochs=100\n",
    "epochs_range = range(epochs)\n",
    "\n",
    "plt.figure(figsize=(10,4))\n",
    "\n",
    "plt.subplot(1,2,1)\n",
    "plt.plot(epochs_range, acc, label='Training Accuracy') \n",
    "plt.plot(epochs_range, val_acc, label='Validation Accuracy')  \n",
    "plt.legend(loc='lower right')\n",
    "plt.title('Training and Validation Accuracy')\n",
    "\n",
    "plt.subplot(1, 2, 2)\n",
    "plt.plot(epochs_range, loss, label='Training Loss')\n",
    "plt.plot(epochs_range, val_loss, label='Validation Loss')\n",
    "plt.legend(loc='upper right')\n",
    "plt.title('Training and Validation Loss')\n",
    "\n",
    "plt.show()"
   ]
  },
  {
   "cell_type": "code",
   "execution_count": 18,
   "id": "71ae576f",
   "metadata": {},
   "outputs": [
    {
     "name": "stderr",
     "output_type": "stream",
     "text": [
      "C:\\Users\\shaha\\anaconda3\\lib\\site-packages\\keras\\engine\\functional.py:1410: CustomMaskWarning: Custom mask layers require a config and must override get_config. When loading, the custom mask layer must be passed to the custom_objects argument.\n",
      "  layer_config = serialize_layer_fn(layer)\n"
     ]
    },
    {
     "name": "stdout",
     "output_type": "stream",
     "text": [
      "Model Saved!\n"
     ]
    }
   ],
   "source": [
    "model.save(\"smoking_modelMN.h5\")\n",
    "print('Model Saved!')"
   ]
  },
  {
   "cell_type": "code",
   "execution_count": 23,
   "id": "c7f90b16",
   "metadata": {},
   "outputs": [],
   "source": [
    "from keras.models import load_model\n",
    "Model = load_model(\"smoking_modelMN.h5\")"
   ]
  },
  {
   "cell_type": "code",
   "execution_count": 19,
   "id": "38c53c63",
   "metadata": {},
   "outputs": [
    {
     "name": "stdout",
     "output_type": "stream",
     "text": [
      "WARNING:tensorflow:Compiled the loaded model, but the compiled metrics have yet to be built. `model.compile_metrics` will be empty until you train or evaluate the model.\n",
      "Model Saved!\n"
     ]
    }
   ],
   "source": [
    "baseModel.save(\"smoking_modelMN2.h5\")\n",
    "print('Model Saved!')"
   ]
  },
  {
   "cell_type": "code",
   "execution_count": null,
   "id": "917bc183",
   "metadata": {},
   "outputs": [],
   "source": []
  }
 ],
 "metadata": {
  "kernelspec": {
   "display_name": "Python 3",
   "language": "python",
   "name": "python3"
  },
  "language_info": {
   "codemirror_mode": {
    "name": "ipython",
    "version": 3
   },
   "file_extension": ".py",
   "mimetype": "text/x-python",
   "name": "python",
   "nbconvert_exporter": "python",
   "pygments_lexer": "ipython3",
   "version": "3.8.8"
  }
 },
 "nbformat": 4,
 "nbformat_minor": 5
}
