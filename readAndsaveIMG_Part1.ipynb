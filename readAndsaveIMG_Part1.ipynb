{
 "cells": [
  {
   "cell_type": "code",
   "execution_count": 3,
   "id": "85d7645d",
   "metadata": {},
   "outputs": [
    {
     "name": "stdout",
     "output_type": "stream",
     "text": [
      "Collecting opencv-python\n",
      "  Downloading opencv_python-4.5.5.62-cp36-abi3-win_amd64.whl (35.4 MB)\n",
      "Requirement already satisfied: numpy>=1.17.3 in c:\\users\\ghaida\\anaconda3400\\lib\\site-packages (from opencv-python) (1.20.3)\n",
      "Installing collected packages: opencv-python\n",
      "Successfully installed opencv-python-4.5.5.62\n"
     ]
    }
   ],
   "source": [
    "!pip install opencv-python"
   ]
  },
  {
   "cell_type": "code",
   "execution_count": 4,
   "id": "ae79c0a5",
   "metadata": {},
   "outputs": [],
   "source": [
    "import numpy as np\n",
    "import os\n",
    "import cv2\n",
    "import matplotlib.pyplot as plt\n",
    "%matplotlib inline"
   ]
  },
  {
   "cell_type": "code",
   "execution_count": 5,
   "id": "c0f2659f",
   "metadata": {},
   "outputs": [],
   "source": [
    "DIRECTORY = r'C:\\Users\\Ghaida\\Desktop\\SDAIA\\deep learning\\project\\dataset\\training_data'\n",
    "\n",
    "CATEGORIES = ['notsmoking', 'smoking']"
   ]
  },
  {
   "cell_type": "code",
   "execution_count": null,
   "id": "77c0355e",
   "metadata": {},
   "outputs": [],
   "source": []
  },
  {
   "cell_type": "code",
   "execution_count": 19,
   "id": "048111cc",
   "metadata": {},
   "outputs": [],
   "source": [
    "\n",
    "IMG_SIZE = 200\n",
    "data = []\n",
    "\n",
    "for category in CATEGORIES:\n",
    "    folder = os.path.join(DIRECTORY, category)\n",
    "    label = CATEGORIES.index(category)\n",
    "#     print(label)\n",
    "    for img in os.listdir(folder):\n",
    "        img_path = os.path.join(folder, img)\n",
    "        img_arr = cv2.imread(img_path)\n",
    "        img_arr = cv2.resize(img_arr , (IMG_SIZE,IMG_SIZE))\n",
    "        data.append([img_arr , label])\n",
    "        break\n",
    "        \n",
    "        "
   ]
  },
  {
   "cell_type": "code",
   "execution_count": 20,
   "id": "c345d733",
   "metadata": {},
   "outputs": [
    {
     "data": {
      "text/plain": [
       "[[array([[[178, 219, 219],\n",
       "          [164, 218, 215],\n",
       "          [157, 201, 200],\n",
       "          ...,\n",
       "          [156, 183, 189],\n",
       "          [160, 188, 192],\n",
       "          [168, 197, 198]],\n",
       "  \n",
       "         [[126, 178, 177],\n",
       "          [102, 166, 163],\n",
       "          [ 79, 132, 130],\n",
       "          ...,\n",
       "          [ 56,  88,  94],\n",
       "          [ 70, 102, 105],\n",
       "          [ 80, 115, 115]],\n",
       "  \n",
       "         [[108, 173, 173],\n",
       "          [ 89, 164, 162],\n",
       "          [ 86, 148, 148],\n",
       "          ...,\n",
       "          [ 68, 105, 112],\n",
       "          [ 69, 107, 111],\n",
       "          [ 77, 116, 118]],\n",
       "  \n",
       "         ...,\n",
       "  \n",
       "         [[ 86, 109, 110],\n",
       "          [ 91, 123, 122],\n",
       "          [104, 135, 134],\n",
       "          ...,\n",
       "          [183, 217, 224],\n",
       "          [181, 219, 233],\n",
       "          [183, 227, 244]],\n",
       "  \n",
       "         [[ 82,  96,  94],\n",
       "          [ 89, 116, 112],\n",
       "          [ 71, 102,  98],\n",
       "          ...,\n",
       "          [207, 240, 248],\n",
       "          [181, 220, 234],\n",
       "          [180, 225, 242]],\n",
       "  \n",
       "         [[ 77,  89,  89],\n",
       "          [ 75, 101,  98],\n",
       "          [ 46,  75,  72],\n",
       "          ...,\n",
       "          [204, 237, 245],\n",
       "          [183, 222, 236],\n",
       "          [177, 221, 238]]], dtype=uint8),\n",
       "  0],\n",
       " [array([[[182, 170, 135],\n",
       "          [167, 150, 106],\n",
       "          [182, 158, 103],\n",
       "          ...,\n",
       "          [ 17,  24,  33],\n",
       "          [ 14,  25,  29],\n",
       "          [ 27,  32,  35]],\n",
       "  \n",
       "         [[187, 175, 140],\n",
       "          [167, 152, 105],\n",
       "          [183, 160, 106],\n",
       "          ...,\n",
       "          [ 16,  23,  32],\n",
       "          [ 13,  23,  28],\n",
       "          [ 28,  33,  36]],\n",
       "  \n",
       "         [[190, 175, 141],\n",
       "          [178, 164, 113],\n",
       "          [183, 164, 108],\n",
       "          ...,\n",
       "          [ 17,  24,  33],\n",
       "          [ 14,  25,  30],\n",
       "          [ 27,  32,  35]],\n",
       "  \n",
       "         ...,\n",
       "  \n",
       "         [[182, 130, 114],\n",
       "          [164, 107,  65],\n",
       "          [173, 110,  74],\n",
       "          ...,\n",
       "          [145,  68,  44],\n",
       "          [128,  56,  34],\n",
       "          [119,  61,  52]],\n",
       "  \n",
       "         [[182, 130, 114],\n",
       "          [167, 111,  69],\n",
       "          [171, 108,  73],\n",
       "          ...,\n",
       "          [143,  67,  42],\n",
       "          [128,  56,  34],\n",
       "          [120,  61,  52]],\n",
       "  \n",
       "         [[179, 127, 111],\n",
       "          [168, 111,  69],\n",
       "          [174, 110,  75],\n",
       "          ...,\n",
       "          [143,  66,  42],\n",
       "          [128,  56,  34],\n",
       "          [119,  61,  52]]], dtype=uint8),\n",
       "  1]]"
      ]
     },
     "execution_count": 20,
     "metadata": {},
     "output_type": "execute_result"
    }
   ],
   "source": [
    "data"
   ]
  },
  {
   "cell_type": "code",
   "execution_count": 23,
   "id": "93b09fe3",
   "metadata": {},
   "outputs": [],
   "source": [
    "import random\n",
    "\n",
    "random.shuffle(data)"
   ]
  },
  {
   "cell_type": "code",
   "execution_count": 24,
   "id": "af0b93e9",
   "metadata": {},
   "outputs": [],
   "source": [
    "X = []\n",
    "y = []"
   ]
  },
  {
   "cell_type": "code",
   "execution_count": 25,
   "id": "edaaaa79",
   "metadata": {},
   "outputs": [],
   "source": [
    "for features, label in data:\n",
    "    X.append(features)\n",
    "    y.append(label)"
   ]
  },
  {
   "cell_type": "code",
   "execution_count": 26,
   "id": "75a5abb7",
   "metadata": {},
   "outputs": [],
   "source": [
    "X = np.array(X)\n",
    "y = np.array(y)"
   ]
  },
  {
   "cell_type": "code",
   "execution_count": 27,
   "id": "affb54fa",
   "metadata": {},
   "outputs": [
    {
     "data": {
      "text/plain": [
       "array([[[[182, 170, 135],\n",
       "         [167, 150, 106],\n",
       "         [182, 158, 103],\n",
       "         ...,\n",
       "         [ 17,  24,  33],\n",
       "         [ 14,  25,  29],\n",
       "         [ 27,  32,  35]],\n",
       "\n",
       "        [[187, 175, 140],\n",
       "         [167, 152, 105],\n",
       "         [183, 160, 106],\n",
       "         ...,\n",
       "         [ 16,  23,  32],\n",
       "         [ 13,  23,  28],\n",
       "         [ 28,  33,  36]],\n",
       "\n",
       "        [[190, 175, 141],\n",
       "         [178, 164, 113],\n",
       "         [183, 164, 108],\n",
       "         ...,\n",
       "         [ 17,  24,  33],\n",
       "         [ 14,  25,  30],\n",
       "         [ 27,  32,  35]],\n",
       "\n",
       "        ...,\n",
       "\n",
       "        [[182, 130, 114],\n",
       "         [164, 107,  65],\n",
       "         [173, 110,  74],\n",
       "         ...,\n",
       "         [145,  68,  44],\n",
       "         [128,  56,  34],\n",
       "         [119,  61,  52]],\n",
       "\n",
       "        [[182, 130, 114],\n",
       "         [167, 111,  69],\n",
       "         [171, 108,  73],\n",
       "         ...,\n",
       "         [143,  67,  42],\n",
       "         [128,  56,  34],\n",
       "         [120,  61,  52]],\n",
       "\n",
       "        [[179, 127, 111],\n",
       "         [168, 111,  69],\n",
       "         [174, 110,  75],\n",
       "         ...,\n",
       "         [143,  66,  42],\n",
       "         [128,  56,  34],\n",
       "         [119,  61,  52]]],\n",
       "\n",
       "\n",
       "       [[[178, 219, 219],\n",
       "         [164, 218, 215],\n",
       "         [157, 201, 200],\n",
       "         ...,\n",
       "         [156, 183, 189],\n",
       "         [160, 188, 192],\n",
       "         [168, 197, 198]],\n",
       "\n",
       "        [[126, 178, 177],\n",
       "         [102, 166, 163],\n",
       "         [ 79, 132, 130],\n",
       "         ...,\n",
       "         [ 56,  88,  94],\n",
       "         [ 70, 102, 105],\n",
       "         [ 80, 115, 115]],\n",
       "\n",
       "        [[108, 173, 173],\n",
       "         [ 89, 164, 162],\n",
       "         [ 86, 148, 148],\n",
       "         ...,\n",
       "         [ 68, 105, 112],\n",
       "         [ 69, 107, 111],\n",
       "         [ 77, 116, 118]],\n",
       "\n",
       "        ...,\n",
       "\n",
       "        [[ 86, 109, 110],\n",
       "         [ 91, 123, 122],\n",
       "         [104, 135, 134],\n",
       "         ...,\n",
       "         [183, 217, 224],\n",
       "         [181, 219, 233],\n",
       "         [183, 227, 244]],\n",
       "\n",
       "        [[ 82,  96,  94],\n",
       "         [ 89, 116, 112],\n",
       "         [ 71, 102,  98],\n",
       "         ...,\n",
       "         [207, 240, 248],\n",
       "         [181, 220, 234],\n",
       "         [180, 225, 242]],\n",
       "\n",
       "        [[ 77,  89,  89],\n",
       "         [ 75, 101,  98],\n",
       "         [ 46,  75,  72],\n",
       "         ...,\n",
       "         [204, 237, 245],\n",
       "         [183, 222, 236],\n",
       "         [177, 221, 238]]]], dtype=uint8)"
      ]
     },
     "execution_count": 27,
     "metadata": {},
     "output_type": "execute_result"
    }
   ],
   "source": [
    "X"
   ]
  },
  {
   "cell_type": "code",
   "execution_count": 28,
   "id": "a1b422dd",
   "metadata": {},
   "outputs": [
    {
     "data": {
      "text/plain": [
       "array([1, 0])"
      ]
     },
     "execution_count": 28,
     "metadata": {},
     "output_type": "execute_result"
    }
   ],
   "source": [
    "y"
   ]
  },
  {
   "cell_type": "code",
   "execution_count": 29,
   "id": "fa81f7a2",
   "metadata": {},
   "outputs": [],
   "source": [
    "import pickle\n"
   ]
  },
  {
   "cell_type": "code",
   "execution_count": 30,
   "id": "ab4f45c2",
   "metadata": {},
   "outputs": [],
   "source": [
    "pickle.dump(X, open('X.pkl', 'wb'))\n",
    "pickle.dump(y, open('y.pkl', 'wb'))"
   ]
  },
  {
   "cell_type": "code",
   "execution_count": null,
   "id": "dc27a0ea",
   "metadata": {},
   "outputs": [],
   "source": []
  }
 ],
 "metadata": {
  "kernelspec": {
   "display_name": "Python 3 (ipykernel)",
   "language": "python",
   "name": "python3"
  },
  "language_info": {
   "codemirror_mode": {
    "name": "ipython",
    "version": 3
   },
   "file_extension": ".py",
   "mimetype": "text/x-python",
   "name": "python",
   "nbconvert_exporter": "python",
   "pygments_lexer": "ipython3",
   "version": "3.9.7"
  }
 },
 "nbformat": 4,
 "nbformat_minor": 5
}
