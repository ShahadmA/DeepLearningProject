{
 "cells": [
  {
   "cell_type": "code",
   "execution_count": 4,
   "id": "450c7b5b",
   "metadata": {},
   "outputs": [],
   "source": [
    "import pickle\n"
   ]
  },
  {
   "cell_type": "code",
   "execution_count": 5,
   "id": "49970b93",
   "metadata": {},
   "outputs": [],
   "source": [
    "X = pickle.load(open('X.pkl', 'rb'))\n",
    "y = pickle.load(open('y.pkl', 'rb'))"
   ]
  },
  {
   "cell_type": "code",
   "execution_count": 6,
   "id": "77319470",
   "metadata": {},
   "outputs": [
    {
     "data": {
      "text/plain": [
       "array([[[[182, 170, 135],\n",
       "         [167, 150, 106],\n",
       "         [182, 158, 103],\n",
       "         ...,\n",
       "         [ 17,  24,  33],\n",
       "         [ 14,  25,  29],\n",
       "         [ 27,  32,  35]],\n",
       "\n",
       "        [[187, 175, 140],\n",
       "         [167, 152, 105],\n",
       "         [183, 160, 106],\n",
       "         ...,\n",
       "         [ 16,  23,  32],\n",
       "         [ 13,  23,  28],\n",
       "         [ 28,  33,  36]],\n",
       "\n",
       "        [[190, 175, 141],\n",
       "         [178, 164, 113],\n",
       "         [183, 164, 108],\n",
       "         ...,\n",
       "         [ 17,  24,  33],\n",
       "         [ 14,  25,  30],\n",
       "         [ 27,  32,  35]],\n",
       "\n",
       "        ...,\n",
       "\n",
       "        [[182, 130, 114],\n",
       "         [164, 107,  65],\n",
       "         [173, 110,  74],\n",
       "         ...,\n",
       "         [145,  68,  44],\n",
       "         [128,  56,  34],\n",
       "         [119,  61,  52]],\n",
       "\n",
       "        [[182, 130, 114],\n",
       "         [167, 111,  69],\n",
       "         [171, 108,  73],\n",
       "         ...,\n",
       "         [143,  67,  42],\n",
       "         [128,  56,  34],\n",
       "         [120,  61,  52]],\n",
       "\n",
       "        [[179, 127, 111],\n",
       "         [168, 111,  69],\n",
       "         [174, 110,  75],\n",
       "         ...,\n",
       "         [143,  66,  42],\n",
       "         [128,  56,  34],\n",
       "         [119,  61,  52]]],\n",
       "\n",
       "\n",
       "       [[[178, 219, 219],\n",
       "         [164, 218, 215],\n",
       "         [157, 201, 200],\n",
       "         ...,\n",
       "         [156, 183, 189],\n",
       "         [160, 188, 192],\n",
       "         [168, 197, 198]],\n",
       "\n",
       "        [[126, 178, 177],\n",
       "         [102, 166, 163],\n",
       "         [ 79, 132, 130],\n",
       "         ...,\n",
       "         [ 56,  88,  94],\n",
       "         [ 70, 102, 105],\n",
       "         [ 80, 115, 115]],\n",
       "\n",
       "        [[108, 173, 173],\n",
       "         [ 89, 164, 162],\n",
       "         [ 86, 148, 148],\n",
       "         ...,\n",
       "         [ 68, 105, 112],\n",
       "         [ 69, 107, 111],\n",
       "         [ 77, 116, 118]],\n",
       "\n",
       "        ...,\n",
       "\n",
       "        [[ 86, 109, 110],\n",
       "         [ 91, 123, 122],\n",
       "         [104, 135, 134],\n",
       "         ...,\n",
       "         [183, 217, 224],\n",
       "         [181, 219, 233],\n",
       "         [183, 227, 244]],\n",
       "\n",
       "        [[ 82,  96,  94],\n",
       "         [ 89, 116, 112],\n",
       "         [ 71, 102,  98],\n",
       "         ...,\n",
       "         [207, 240, 248],\n",
       "         [181, 220, 234],\n",
       "         [180, 225, 242]],\n",
       "\n",
       "        [[ 77,  89,  89],\n",
       "         [ 75, 101,  98],\n",
       "         [ 46,  75,  72],\n",
       "         ...,\n",
       "         [204, 237, 245],\n",
       "         [183, 222, 236],\n",
       "         [177, 221, 238]]]], dtype=uint8)"
      ]
     },
     "execution_count": 6,
     "metadata": {},
     "output_type": "execute_result"
    }
   ],
   "source": [
    "X"
   ]
  },
  {
   "cell_type": "code",
   "execution_count": 7,
   "id": "f8e7cfc0",
   "metadata": {},
   "outputs": [
    {
     "data": {
      "text/plain": [
       "array([1, 0])"
      ]
     },
     "execution_count": 7,
     "metadata": {},
     "output_type": "execute_result"
    }
   ],
   "source": [
    "y"
   ]
  },
  {
   "cell_type": "code",
   "execution_count": 8,
   "id": "3421f342",
   "metadata": {},
   "outputs": [],
   "source": [
    "X = X/255"
   ]
  },
  {
   "cell_type": "code",
   "execution_count": 9,
   "id": "e682b51f",
   "metadata": {
    "scrolled": true
   },
   "outputs": [
    {
     "data": {
      "text/plain": [
       "array([[[[0.71372549, 0.66666667, 0.52941176],\n",
       "         [0.65490196, 0.58823529, 0.41568627],\n",
       "         [0.71372549, 0.61960784, 0.40392157],\n",
       "         ...,\n",
       "         [0.06666667, 0.09411765, 0.12941176],\n",
       "         [0.05490196, 0.09803922, 0.11372549],\n",
       "         [0.10588235, 0.1254902 , 0.1372549 ]],\n",
       "\n",
       "        [[0.73333333, 0.68627451, 0.54901961],\n",
       "         [0.65490196, 0.59607843, 0.41176471],\n",
       "         [0.71764706, 0.62745098, 0.41568627],\n",
       "         ...,\n",
       "         [0.0627451 , 0.09019608, 0.1254902 ],\n",
       "         [0.05098039, 0.09019608, 0.10980392],\n",
       "         [0.10980392, 0.12941176, 0.14117647]],\n",
       "\n",
       "        [[0.74509804, 0.68627451, 0.55294118],\n",
       "         [0.69803922, 0.64313725, 0.44313725],\n",
       "         [0.71764706, 0.64313725, 0.42352941],\n",
       "         ...,\n",
       "         [0.06666667, 0.09411765, 0.12941176],\n",
       "         [0.05490196, 0.09803922, 0.11764706],\n",
       "         [0.10588235, 0.1254902 , 0.1372549 ]],\n",
       "\n",
       "        ...,\n",
       "\n",
       "        [[0.71372549, 0.50980392, 0.44705882],\n",
       "         [0.64313725, 0.41960784, 0.25490196],\n",
       "         [0.67843137, 0.43137255, 0.29019608],\n",
       "         ...,\n",
       "         [0.56862745, 0.26666667, 0.17254902],\n",
       "         [0.50196078, 0.21960784, 0.13333333],\n",
       "         [0.46666667, 0.23921569, 0.20392157]],\n",
       "\n",
       "        [[0.71372549, 0.50980392, 0.44705882],\n",
       "         [0.65490196, 0.43529412, 0.27058824],\n",
       "         [0.67058824, 0.42352941, 0.28627451],\n",
       "         ...,\n",
       "         [0.56078431, 0.2627451 , 0.16470588],\n",
       "         [0.50196078, 0.21960784, 0.13333333],\n",
       "         [0.47058824, 0.23921569, 0.20392157]],\n",
       "\n",
       "        [[0.70196078, 0.49803922, 0.43529412],\n",
       "         [0.65882353, 0.43529412, 0.27058824],\n",
       "         [0.68235294, 0.43137255, 0.29411765],\n",
       "         ...,\n",
       "         [0.56078431, 0.25882353, 0.16470588],\n",
       "         [0.50196078, 0.21960784, 0.13333333],\n",
       "         [0.46666667, 0.23921569, 0.20392157]]],\n",
       "\n",
       "\n",
       "       [[[0.69803922, 0.85882353, 0.85882353],\n",
       "         [0.64313725, 0.85490196, 0.84313725],\n",
       "         [0.61568627, 0.78823529, 0.78431373],\n",
       "         ...,\n",
       "         [0.61176471, 0.71764706, 0.74117647],\n",
       "         [0.62745098, 0.7372549 , 0.75294118],\n",
       "         [0.65882353, 0.77254902, 0.77647059]],\n",
       "\n",
       "        [[0.49411765, 0.69803922, 0.69411765],\n",
       "         [0.4       , 0.65098039, 0.63921569],\n",
       "         [0.30980392, 0.51764706, 0.50980392],\n",
       "         ...,\n",
       "         [0.21960784, 0.34509804, 0.36862745],\n",
       "         [0.2745098 , 0.4       , 0.41176471],\n",
       "         [0.31372549, 0.45098039, 0.45098039]],\n",
       "\n",
       "        [[0.42352941, 0.67843137, 0.67843137],\n",
       "         [0.34901961, 0.64313725, 0.63529412],\n",
       "         [0.3372549 , 0.58039216, 0.58039216],\n",
       "         ...,\n",
       "         [0.26666667, 0.41176471, 0.43921569],\n",
       "         [0.27058824, 0.41960784, 0.43529412],\n",
       "         [0.30196078, 0.45490196, 0.4627451 ]],\n",
       "\n",
       "        ...,\n",
       "\n",
       "        [[0.3372549 , 0.42745098, 0.43137255],\n",
       "         [0.35686275, 0.48235294, 0.47843137],\n",
       "         [0.40784314, 0.52941176, 0.5254902 ],\n",
       "         ...,\n",
       "         [0.71764706, 0.85098039, 0.87843137],\n",
       "         [0.70980392, 0.85882353, 0.91372549],\n",
       "         [0.71764706, 0.89019608, 0.95686275]],\n",
       "\n",
       "        [[0.32156863, 0.37647059, 0.36862745],\n",
       "         [0.34901961, 0.45490196, 0.43921569],\n",
       "         [0.27843137, 0.4       , 0.38431373],\n",
       "         ...,\n",
       "         [0.81176471, 0.94117647, 0.97254902],\n",
       "         [0.70980392, 0.8627451 , 0.91764706],\n",
       "         [0.70588235, 0.88235294, 0.94901961]],\n",
       "\n",
       "        [[0.30196078, 0.34901961, 0.34901961],\n",
       "         [0.29411765, 0.39607843, 0.38431373],\n",
       "         [0.18039216, 0.29411765, 0.28235294],\n",
       "         ...,\n",
       "         [0.8       , 0.92941176, 0.96078431],\n",
       "         [0.71764706, 0.87058824, 0.9254902 ],\n",
       "         [0.69411765, 0.86666667, 0.93333333]]]])"
      ]
     },
     "execution_count": 9,
     "metadata": {},
     "output_type": "execute_result"
    }
   ],
   "source": [
    "X"
   ]
  },
  {
   "cell_type": "code",
   "execution_count": 10,
   "id": "926f0414",
   "metadata": {},
   "outputs": [
    {
     "name": "stdout",
     "output_type": "stream",
     "text": [
      "Requirement already satisfied: keras in c:\\users\\ghaida\\anaconda3400\\lib\\site-packages (2.7.0)\n"
     ]
    }
   ],
   "source": [
    "!pip install keras"
   ]
  },
  {
   "cell_type": "code",
   "execution_count": 13,
   "id": "90793796",
   "metadata": {},
   "outputs": [
    {
     "name": "stdout",
     "output_type": "stream",
     "text": [
      "Collecting tensorflow\n",
      "  Using cached tensorflow-2.7.0-cp39-cp39-win_amd64.whl (430.8 MB)\n",
      "Requirement already satisfied: wheel<1.0,>=0.32.0 in c:\\users\\ghaida\\anaconda3400\\lib\\site-packages (from tensorflow) (0.37.0)\n",
      "Collecting protobuf>=3.9.2\n",
      "  Using cached protobuf-3.19.1-cp39-cp39-win_amd64.whl (895 kB)\n",
      "Requirement already satisfied: h5py>=2.9.0 in c:\\users\\ghaida\\anaconda3400\\lib\\site-packages (from tensorflow) (3.2.1)\n",
      "Collecting termcolor>=1.1.0\n",
      "  Using cached termcolor-1.1.0.tar.gz (3.9 kB)\n",
      "Collecting tensorboard~=2.6\n",
      "  Using cached tensorboard-2.7.0-py3-none-any.whl (5.8 MB)\n",
      "Collecting flatbuffers<3.0,>=1.12\n",
      "  Downloading flatbuffers-2.0-py2.py3-none-any.whl (26 kB)\n",
      "Collecting tensorflow-estimator<2.8,~=2.7.0rc0\n",
      "  Using cached tensorflow_estimator-2.7.0-py2.py3-none-any.whl (463 kB)\n",
      "Collecting opt-einsum>=2.3.2\n",
      "  Using cached opt_einsum-3.3.0-py3-none-any.whl (65 kB)\n",
      "Requirement already satisfied: typing-extensions>=3.6.6 in c:\\users\\ghaida\\anaconda3400\\lib\\site-packages (from tensorflow) (3.10.0.2)\n",
      "Collecting astunparse>=1.6.0\n",
      "  Using cached astunparse-1.6.3-py2.py3-none-any.whl (12 kB)\n",
      "Requirement already satisfied: six>=1.12.0 in c:\\users\\ghaida\\anaconda3400\\lib\\site-packages (from tensorflow) (1.16.0)\n",
      "Collecting gast<0.5.0,>=0.2.1\n",
      "  Using cached gast-0.4.0-py3-none-any.whl (9.8 kB)\n",
      "Collecting grpcio<2.0,>=1.24.3\n",
      "  Using cached grpcio-1.43.0-cp39-cp39-win_amd64.whl (3.4 MB)\n",
      "Requirement already satisfied: numpy>=1.14.5 in c:\\users\\ghaida\\anaconda3400\\lib\\site-packages (from tensorflow) (1.20.3)\n",
      "Collecting google-pasta>=0.1.1\n",
      "  Using cached google_pasta-0.2.0-py3-none-any.whl (57 kB)\n",
      "Collecting absl-py>=0.4.0\n",
      "  Using cached absl_py-1.0.0-py3-none-any.whl (126 kB)\n",
      "Collecting tensorflow-io-gcs-filesystem>=0.21.0\n",
      "  Using cached tensorflow_io_gcs_filesystem-0.23.1-cp39-cp39-win_amd64.whl (1.5 MB)\n",
      "Collecting keras-preprocessing>=1.1.1\n",
      "  Using cached Keras_Preprocessing-1.1.2-py2.py3-none-any.whl (42 kB)\n",
      "Requirement already satisfied: wrapt>=1.11.0 in c:\\users\\ghaida\\anaconda3400\\lib\\site-packages (from tensorflow) (1.12.1)\n",
      "Requirement already satisfied: keras<2.8,>=2.7.0rc0 in c:\\users\\ghaida\\anaconda3400\\lib\\site-packages (from tensorflow) (2.7.0)\n",
      "Collecting libclang>=9.0.1\n",
      "  Using cached libclang-12.0.0-2-py2.py3-none-win_amd64.whl (13.0 MB)\n",
      "Collecting markdown>=2.6.8\n",
      "  Using cached Markdown-3.3.6-py3-none-any.whl (97 kB)\n",
      "Collecting tensorboard-data-server<0.7.0,>=0.6.0\n",
      "  Using cached tensorboard_data_server-0.6.1-py3-none-any.whl (2.4 kB)\n",
      "Requirement already satisfied: requests<3,>=2.21.0 in c:\\users\\ghaida\\anaconda3400\\lib\\site-packages (from tensorboard~=2.6->tensorflow) (2.26.0)\n",
      "Collecting google-auth-oauthlib<0.5,>=0.4.1\n",
      "  Using cached google_auth_oauthlib-0.4.6-py2.py3-none-any.whl (18 kB)\n",
      "Requirement already satisfied: werkzeug>=0.11.15 in c:\\users\\ghaida\\anaconda3400\\lib\\site-packages (from tensorboard~=2.6->tensorflow) (2.0.2)\n",
      "Collecting google-auth<3,>=1.6.3\n",
      "  Using cached google_auth-2.3.3-py2.py3-none-any.whl (155 kB)\n",
      "Requirement already satisfied: setuptools>=41.0.0 in c:\\users\\ghaida\\anaconda3400\\lib\\site-packages (from tensorboard~=2.6->tensorflow) (58.0.4)\n",
      "Collecting tensorboard-plugin-wit>=1.6.0\n",
      "  Using cached tensorboard_plugin_wit-1.8.1-py3-none-any.whl (781 kB)\n",
      "Collecting pyasn1-modules>=0.2.1\n",
      "  Using cached pyasn1_modules-0.2.8-py2.py3-none-any.whl (155 kB)\n",
      "Collecting rsa<5,>=3.1.4\n",
      "  Using cached rsa-4.8-py3-none-any.whl (39 kB)\n",
      "Collecting cachetools<5.0,>=2.0.0\n",
      "  Using cached cachetools-4.2.4-py3-none-any.whl (10 kB)\n",
      "Collecting requests-oauthlib>=0.7.0\n",
      "  Using cached requests_oauthlib-1.3.0-py2.py3-none-any.whl (23 kB)\n",
      "Requirement already satisfied: importlib-metadata>=4.4 in c:\\users\\ghaida\\anaconda3400\\lib\\site-packages (from markdown>=2.6.8->tensorboard~=2.6->tensorflow) (4.8.1)\n",
      "Requirement already satisfied: zipp>=0.5 in c:\\users\\ghaida\\anaconda3400\\lib\\site-packages (from importlib-metadata>=4.4->markdown>=2.6.8->tensorboard~=2.6->tensorflow) (3.6.0)\n",
      "Collecting pyasn1<0.5.0,>=0.4.6\n",
      "  Using cached pyasn1-0.4.8-py2.py3-none-any.whl (77 kB)\n",
      "Requirement already satisfied: idna<4,>=2.5 in c:\\users\\ghaida\\anaconda3400\\lib\\site-packages (from requests<3,>=2.21.0->tensorboard~=2.6->tensorflow) (3.2)\n",
      "Requirement already satisfied: charset-normalizer~=2.0.0 in c:\\users\\ghaida\\anaconda3400\\lib\\site-packages (from requests<3,>=2.21.0->tensorboard~=2.6->tensorflow) (2.0.4)\n",
      "Requirement already satisfied: certifi>=2017.4.17 in c:\\users\\ghaida\\anaconda3400\\lib\\site-packages (from requests<3,>=2.21.0->tensorboard~=2.6->tensorflow) (2021.10.8)\n",
      "Requirement already satisfied: urllib3<1.27,>=1.21.1 in c:\\users\\ghaida\\anaconda3400\\lib\\site-packages (from requests<3,>=2.21.0->tensorboard~=2.6->tensorflow) (1.26.7)\n",
      "Collecting oauthlib>=3.0.0\n",
      "  Using cached oauthlib-3.1.1-py2.py3-none-any.whl (146 kB)\n",
      "Building wheels for collected packages: termcolor"
     ]
    },
    {
     "name": "stderr",
     "output_type": "stream",
     "text": [
      "ERROR: Could not install packages due to an OSError: [WinError 32] The process cannot access the file because it is being used by another process: 'C:\\\\Users\\\\Ghaida\\\\anaconda3400\\\\Lib\\\\site-packages\\\\tensorflow\\\\python\\\\_pywrap_tensorflow_internal.pyd'\n",
      "Consider using the `--user` option or check the permissions.\n",
      "\n"
     ]
    },
    {
     "name": "stdout",
     "output_type": "stream",
     "text": [
      "\n",
      "  Building wheel for termcolor (setup.py): started\n",
      "  Building wheel for termcolor (setup.py): finished with status 'done'\n",
      "  Created wheel for termcolor: filename=termcolor-1.1.0-py3-none-any.whl size=4847 sha256=b31d8515927f0c8fc20a15e326ff4b40829148548555b2906172c369655fd0fb\n",
      "  Stored in directory: c:\\users\\ghaida\\appdata\\local\\pip\\cache\\wheels\\b6\\0d\\90\\0d1bbd99855f99cb2f6c2e5ff96f8023fad8ec367695f7d72d\n",
      "Successfully built termcolor\n",
      "Installing collected packages: pyasn1, rsa, pyasn1-modules, oauthlib, cachetools, requests-oauthlib, google-auth, tensorboard-plugin-wit, tensorboard-data-server, protobuf, markdown, grpcio, google-auth-oauthlib, absl-py, termcolor, tensorflow-io-gcs-filesystem, tensorflow-estimator, tensorboard, opt-einsum, libclang, keras-preprocessing, google-pasta, gast, flatbuffers, astunparse, tensorflow\n"
     ]
    }
   ],
   "source": [
    "!pip install tensorflow"
   ]
  },
  {
   "cell_type": "code",
   "execution_count": 14,
   "id": "fecf65df",
   "metadata": {},
   "outputs": [
    {
     "name": "stdout",
     "output_type": "stream",
     "text": [
      "Collecting tensorflow\n",
      "  Downloading tensorflow-2.7.0-cp39-cp39-win_amd64.whl (430.8 MB)\n",
      "Requirement already satisfied: h5py>=2.9.0 in c:\\users\\ghaida\\anaconda3400\\lib\\site-packages (from tensorflow) (3.2.1)\n",
      "Requirement already satisfied: six>=1.12.0 in c:\\users\\ghaida\\anaconda3400\\lib\\site-packages (from tensorflow) (1.16.0)\n",
      "Requirement already satisfied: wrapt>=1.11.0 in c:\\users\\ghaida\\anaconda3400\\lib\\site-packages (from tensorflow) (1.12.1)\n",
      "Collecting tensorflow-estimator<2.8,~=2.7.0rc0\n",
      "  Downloading tensorflow_estimator-2.7.0-py2.py3-none-any.whl (463 kB)\n",
      "Collecting libclang>=9.0.1\n",
      "  Downloading libclang-12.0.0-2-py2.py3-none-win_amd64.whl (13.0 MB)\n",
      "Collecting opt-einsum>=2.3.2\n",
      "  Downloading opt_einsum-3.3.0-py3-none-any.whl (65 kB)\n",
      "Collecting grpcio<2.0,>=1.24.3\n",
      "  Downloading grpcio-1.43.0-cp39-cp39-win_amd64.whl (3.4 MB)\n",
      "Collecting tensorboard~=2.6\n",
      "  Downloading tensorboard-2.7.0-py3-none-any.whl (5.8 MB)\n",
      "Collecting protobuf>=3.9.2\n",
      "  Downloading protobuf-3.19.1-cp39-cp39-win_amd64.whl (895 kB)\n",
      "Requirement already satisfied: numpy>=1.14.5 in c:\\users\\ghaida\\anaconda3400\\lib\\site-packages (from tensorflow) (1.20.3)\n",
      "Requirement already satisfied: wheel<1.0,>=0.32.0 in c:\\users\\ghaida\\anaconda3400\\lib\\site-packages (from tensorflow) (0.37.0)\n",
      "Requirement already satisfied: keras<2.8,>=2.7.0rc0 in c:\\users\\ghaida\\anaconda3400\\lib\\site-packages (from tensorflow) (2.7.0)\n",
      "Collecting absl-py>=0.4.0\n",
      "  Downloading absl_py-1.0.0-py3-none-any.whl (126 kB)\n",
      "Requirement already satisfied: typing-extensions>=3.6.6 in c:\\users\\ghaida\\anaconda3400\\lib\\site-packages (from tensorflow) (3.10.0.2)\n",
      "Collecting termcolor>=1.1.0\n",
      "  Downloading termcolor-1.1.0.tar.gz (3.9 kB)\n",
      "Collecting gast<0.5.0,>=0.2.1\n",
      "  Downloading gast-0.4.0-py3-none-any.whl (9.8 kB)\n",
      "Collecting tensorflow-io-gcs-filesystem>=0.21.0\n",
      "  Downloading tensorflow_io_gcs_filesystem-0.23.1-cp39-cp39-win_amd64.whl (1.5 MB)\n",
      "Collecting astunparse>=1.6.0\n",
      "  Downloading astunparse-1.6.3-py2.py3-none-any.whl (12 kB)\n",
      "Collecting keras-preprocessing>=1.1.1\n",
      "  Downloading Keras_Preprocessing-1.1.2-py2.py3-none-any.whl (42 kB)\n",
      "Collecting google-pasta>=0.1.1\n",
      "  Downloading google_pasta-0.2.0-py3-none-any.whl (57 kB)\n",
      "Collecting flatbuffers<3.0,>=1.12\n",
      "  Using cached flatbuffers-2.0-py2.py3-none-any.whl (26 kB)\n",
      "Collecting tensorboard-plugin-wit>=1.6.0\n",
      "  Downloading tensorboard_plugin_wit-1.8.1-py3-none-any.whl (781 kB)\n",
      "Requirement already satisfied: requests<3,>=2.21.0 in c:\\users\\ghaida\\anaconda3400\\lib\\site-packages (from tensorboard~=2.6->tensorflow) (2.26.0)\n",
      "Collecting markdown>=2.6.8\n",
      "  Downloading Markdown-3.3.6-py3-none-any.whl (97 kB)\n",
      "Requirement already satisfied: setuptools>=41.0.0 in c:\\users\\ghaida\\anaconda3400\\lib\\site-packages (from tensorboard~=2.6->tensorflow) (58.0.4)\n",
      "Collecting google-auth-oauthlib<0.5,>=0.4.1\n",
      "  Downloading google_auth_oauthlib-0.4.6-py2.py3-none-any.whl (18 kB)\n",
      "Requirement already satisfied: werkzeug>=0.11.15 in c:\\users\\ghaida\\anaconda3400\\lib\\site-packages (from tensorboard~=2.6->tensorflow) (2.0.2)\n",
      "Collecting tensorboard-data-server<0.7.0,>=0.6.0\n",
      "  Downloading tensorboard_data_server-0.6.1-py3-none-any.whl (2.4 kB)\n",
      "Collecting google-auth<3,>=1.6.3\n",
      "  Downloading google_auth-2.3.3-py2.py3-none-any.whl (155 kB)\n",
      "Collecting cachetools<5.0,>=2.0.0\n",
      "  Downloading cachetools-4.2.4-py3-none-any.whl (10 kB)\n",
      "Collecting rsa<5,>=3.1.4\n",
      "  Downloading rsa-4.8-py3-none-any.whl (39 kB)\n",
      "Collecting pyasn1-modules>=0.2.1\n",
      "  Downloading pyasn1_modules-0.2.8-py2.py3-none-any.whl (155 kB)\n",
      "Collecting requests-oauthlib>=0.7.0\n",
      "  Downloading requests_oauthlib-1.3.0-py2.py3-none-any.whl (23 kB)\n",
      "Requirement already satisfied: importlib-metadata>=4.4 in c:\\users\\ghaida\\anaconda3400\\lib\\site-packages (from markdown>=2.6.8->tensorboard~=2.6->tensorflow) (4.8.1)\n",
      "Requirement already satisfied: zipp>=0.5 in c:\\users\\ghaida\\anaconda3400\\lib\\site-packages (from importlib-metadata>=4.4->markdown>=2.6.8->tensorboard~=2.6->tensorflow) (3.6.0)\n",
      "Collecting pyasn1<0.5.0,>=0.4.6\n",
      "  Downloading pyasn1-0.4.8-py2.py3-none-any.whl (77 kB)\n",
      "Requirement already satisfied: urllib3<1.27,>=1.21.1 in c:\\users\\ghaida\\anaconda3400\\lib\\site-packages (from requests<3,>=2.21.0->tensorboard~=2.6->tensorflow) (1.26.7)\n",
      "Requirement already satisfied: charset-normalizer~=2.0.0 in c:\\users\\ghaida\\anaconda3400\\lib\\site-packages (from requests<3,>=2.21.0->tensorboard~=2.6->tensorflow) (2.0.4)\n",
      "Requirement already satisfied: idna<4,>=2.5 in c:\\users\\ghaida\\anaconda3400\\lib\\site-packages (from requests<3,>=2.21.0->tensorboard~=2.6->tensorflow) (3.2)\n",
      "Requirement already satisfied: certifi>=2017.4.17 in c:\\users\\ghaida\\anaconda3400\\lib\\site-packages (from requests<3,>=2.21.0->tensorboard~=2.6->tensorflow) (2021.10.8)\n",
      "Collecting oauthlib>=3.0.0\n",
      "  Downloading oauthlib-3.1.1-py2.py3-none-any.whl (146 kB)\n",
      "Building wheels for collected packages: termcolor\n",
      "  Building wheel for termcolor (setup.py): started\n",
      "  Building wheel for termcolor (setup.py): finished with status 'done'\n",
      "  Created wheel for termcolor: filename=termcolor-1.1.0-py3-none-any.whl size=4847 sha256=b31d8515927f0c8fc20a15e326ff4b40829148548555b2906172c369655fd0fb\n",
      "  Stored in directory: c:\\users\\ghaida\\appdata\\local\\pip\\cache\\wheels\\b6\\0d\\90\\0d1bbd99855f99cb2f6c2e5ff96f8023fad8ec367695f7d72d\n",
      "Successfully built termcolor\n",
      "Installing collected packages: pyasn1, rsa, pyasn1-modules, oauthlib, cachetools, requests-oauthlib, google-auth, tensorboard-plugin-wit, tensorboard-data-server, protobuf, markdown, grpcio, google-auth-oauthlib, absl-py, termcolor, tensorflow-io-gcs-filesystem, tensorflow-estimator, tensorboard, opt-einsum, libclang, keras-preprocessing, google-pasta, gast, flatbuffers, astunparse, tensorflow\n",
      "Successfully installed absl-py-1.0.0 astunparse-1.6.3 cachetools-4.2.4 flatbuffers-2.0 gast-0.4.0 google-auth-2.3.3 google-auth-oauthlib-0.4.6 google-pasta-0.2.0 grpcio-1.43.0 keras-preprocessing-1.1.2 libclang-12.0.0 markdown-3.3.6 oauthlib-3.1.1 opt-einsum-3.3.0 protobuf-3.19.1 pyasn1-0.4.8 pyasn1-modules-0.2.8 requests-oauthlib-1.3.0 rsa-4.8 tensorboard-2.7.0 tensorboard-data-server-0.6.1 tensorboard-plugin-wit-1.8.1 tensorflow-2.7.0 tensorflow-estimator-2.7.0 tensorflow-io-gcs-filesystem-0.23.1 termcolor-1.1.0\n"
     ]
    }
   ],
   "source": [
    "from keras.models import Sequential\n",
    "from keras.layers import Conv2D, MaxPooling2D, Dense, Flatten"
   ]
  },
  {
   "cell_type": "code",
   "execution_count": 15,
   "id": "88f47136",
   "metadata": {},
   "outputs": [],
   "source": [
    "model = Sequential()\n",
    "\n",
    "model.add(Conv2D(64, (3,3), activation = 'relu'))\n",
    "model.add(MaxPooling2D((2,2)))\n",
    "\n",
    "model.add(Conv2D(64, (3,3), activation = 'relu'))\n",
    "model.add(MaxPooling2D((2,2)))\n",
    "\n",
    "model.add(Flatten())\n",
    "\n",
    "model.add(Dense(128, input_shape = X.shape[1:], activation = 'relu'))\n",
    "\n",
    "model.add(Dense(2, activation = 'softmax'))"
   ]
  },
  {
   "cell_type": "code",
   "execution_count": 16,
   "id": "36aa0337",
   "metadata": {},
   "outputs": [],
   "source": [
    "model.compile(optimizer='adam',\n",
    "              loss='sparse_categorical_crossentropy',\n",
    "              metrics=['accuracy'])"
   ]
  },
  {
   "cell_type": "code",
   "execution_count": 17,
   "id": "a22219d3",
   "metadata": {},
   "outputs": [
    {
     "name": "stdout",
     "output_type": "stream",
     "text": [
      "Epoch 1/5\n",
      "1/1 [==============================] - 2s 2s/step - loss: 0.6527 - accuracy: 1.0000 - val_loss: 35.4037 - val_accuracy: 0.0000e+00\n",
      "Epoch 2/5\n",
      "1/1 [==============================] - 0s 329ms/step - loss: 0.0000e+00 - accuracy: 1.0000 - val_loss: 60.4518 - val_accuracy: 0.0000e+00\n",
      "Epoch 3/5\n",
      "1/1 [==============================] - 0s 250ms/step - loss: 0.0000e+00 - accuracy: 1.0000 - val_loss: 82.1206 - val_accuracy: 0.0000e+00\n",
      "Epoch 4/5\n",
      "1/1 [==============================] - 0s 250ms/step - loss: 0.0000e+00 - accuracy: 1.0000 - val_loss: 102.4876 - val_accuracy: 0.0000e+00\n",
      "Epoch 5/5\n",
      "1/1 [==============================] - 0s 318ms/step - loss: 0.0000e+00 - accuracy: 1.0000 - val_loss: 122.0676 - val_accuracy: 0.0000e+00\n"
     ]
    },
    {
     "data": {
      "text/plain": [
       "<keras.callbacks.History at 0x24de9cdd6a0>"
      ]
     },
     "execution_count": 17,
     "metadata": {},
     "output_type": "execute_result"
    }
   ],
   "source": [
    "model.fit(X, y, epochs=5, validation_split=0.1)"
   ]
  },
  {
   "cell_type": "code",
   "execution_count": null,
   "id": "9172e8b0",
   "metadata": {},
   "outputs": [],
   "source": []
  }
 ],
 "metadata": {
  "kernelspec": {
   "display_name": "Python 3 (ipykernel)",
   "language": "python",
   "name": "python3"
  },
  "language_info": {
   "codemirror_mode": {
    "name": "ipython",
    "version": 3
   },
   "file_extension": ".py",
   "mimetype": "text/x-python",
   "name": "python",
   "nbconvert_exporter": "python",
   "pygments_lexer": "ipython3",
   "version": "3.9.7"
  }
 },
 "nbformat": 4,
 "nbformat_minor": 5
}
