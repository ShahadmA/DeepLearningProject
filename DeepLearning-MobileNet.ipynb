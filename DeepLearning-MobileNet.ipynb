{
 "cells": [
  {
   "cell_type": "markdown",
   "id": "34b01e24",
   "metadata": {},
   "source": [
    "# Import Libraries"
   ]
  },
  {
   "cell_type": "code",
   "execution_count": 13,
   "id": "71d84bbe",
   "metadata": {},
   "outputs": [],
   "source": [
    "from tensorflow.keras.applications.mobilenet_v2 import preprocess_input\n",
    "from tensorflow.keras.preprocessing.image import ImageDataGenerator\n",
    "from tensorflow.keras.preprocessing.image import img_to_array\n",
    "from tensorflow.keras.preprocessing.image import load_img\n",
    "from tensorflow.keras.applications import MobileNetV2\n",
    "from sklearn.model_selection import train_test_split\n",
    "from tensorflow.keras.layers import AveragePooling2D\n",
    "from sklearn.metrics import classification_report\n",
    "from tensorflow.keras.utils import to_categorical\n",
    "from sklearn.preprocessing import LabelBinarizer\n",
    "from keras_applications.resnet import ResNet50\n",
    "from tensorflow.keras.optimizers import Adam\n",
    "from tensorflow.keras.layers import Dropout\n",
    "from tensorflow.keras.layers import Flatten\n",
    "from tensorflow.keras.layers import Dense\n",
    "from tensorflow.keras.layers import Input\n",
    "from tensorflow.keras.models import Model\n",
    "from keras.models import Sequential\n",
    "import matplotlib.pyplot as plt\n",
    "from imutils import paths\n",
    "import tensorflow as tf\n",
    "import seaborn as sns\n",
    "import pandas as pd\n",
    "import numpy as np\n",
    "import os"
   ]
  },
  {
   "cell_type": "markdown",
   "id": "1f5c6ae1",
   "metadata": {},
   "source": [
    "# Uploading Dataset"
   ]
  },
  {
   "cell_type": "code",
   "execution_count": 14,
   "id": "57f87f5d",
   "metadata": {},
   "outputs": [],
   "source": [
    "dataset_path=r'C:\\Users\\shaha\\Desktop\\dataset\\training_data'"
   ]
  },
  {
   "cell_type": "code",
   "execution_count": 15,
   "id": "64f0d556",
   "metadata": {},
   "outputs": [],
   "source": [
    "imagePaths = list(paths.list_images(dataset_path))"
   ]
  },
  {
   "cell_type": "markdown",
   "id": "1c11ba2b",
   "metadata": {},
   "source": [
    "# Preprocessing"
   ]
  },
  {
   "cell_type": "code",
   "execution_count": 16,
   "id": "1a2980c8",
   "metadata": {},
   "outputs": [
    {
     "name": "stderr",
     "output_type": "stream",
     "text": [
      "C:\\Users\\shaha\\anaconda3\\lib\\site-packages\\PIL\\Image.py:962: UserWarning: Palette images with Transparency expressed in bytes should be converted to RGBA images\n",
      "  warnings.warn(\n"
     ]
    }
   ],
   "source": [
    "data = []\n",
    "labels = []\n",
    "for imagePath in imagePaths:\n",
    "    label = imagePath.split(os.path.sep)[-2]\n",
    "    image = load_img(imagePath, target_size=(224, 224))\n",
    "    image = img_to_array(image)\n",
    "    image = preprocess_input(image)\n",
    "    data.append(image)\n",
    "    labels.append(label)\n",
    "data = np.array(data, dtype=\"float32\")\n",
    "labels = np.array(labels)\n",
    "lb = LabelBinarizer()\n",
    "labels = lb.fit_transform(labels)\n",
    "labels = to_categorical(labels)"
   ]
  },
  {
   "cell_type": "code",
   "execution_count": 17,
   "id": "7cd1ce3b",
   "metadata": {},
   "outputs": [],
   "source": [
    "(X_train, X_val, y_train, y_val) = train_test_split(data, labels,test_size=0.20, stratify=labels, random_state=42)"
   ]
  },
  {
   "cell_type": "code",
   "execution_count": 18,
   "id": "a81cbcbf",
   "metadata": {},
   "outputs": [],
   "source": [
    "aug = ImageDataGenerator(\n",
    "    rotation_range=20,\n",
    "    zoom_range=0.15,\n",
    "    width_shift_range=0.2,\n",
    "    height_shift_range=0.2,\n",
    "    shear_range=0.15,\n",
    "    horizontal_flip=True,\n",
    "    fill_mode=\"nearest\")"
   ]
  },
  {
   "cell_type": "code",
   "execution_count": 19,
   "id": "df5ad1c5",
   "metadata": {},
   "outputs": [],
   "source": [
    "INIT_LR = 1e-4\n",
    "EPOCHS = 100\n",
    "BS = 32"
   ]
  },
  {
   "cell_type": "markdown",
   "id": "b466020b",
   "metadata": {},
   "source": [
    "# 1- MobileNet"
   ]
  },
  {
   "cell_type": "markdown",
   "id": "6f4dc3f0",
   "metadata": {},
   "source": [
    "### Epoch = 100"
   ]
  },
  {
   "cell_type": "code",
   "execution_count": 15,
   "id": "fa9c2af4",
   "metadata": {},
   "outputs": [
    {
     "name": "stdout",
     "output_type": "stream",
     "text": [
      "WARNING:tensorflow:`input_shape` is undefined or non-square, or `rows` is not in [96, 128, 160, 192, 224]. Weights for input shape (224, 224) will be loaded as the default.\n"
     ]
    },
    {
     "name": "stderr",
     "output_type": "stream",
     "text": [
      "C:\\Users\\shaha\\anaconda3\\lib\\site-packages\\keras\\optimizer_v2\\adam.py:105: UserWarning: The `lr` argument is deprecated, use `learning_rate` instead.\n",
      "  super(Adam, self).__init__(name, **kwargs)\n"
     ]
    }
   ],
   "source": [
    "baseModel = MobileNetV2(weights=\"imagenet\", include_top=False,input_tensor=Input(shape=(224, 224, 3)))\n",
    "\n",
    "headModel = baseModel.output\n",
    "headModel = AveragePooling2D(pool_size=(7, 7))(headModel)\n",
    "headModel = Flatten(name=\"flatten\")(headModel)\n",
    "headModel = Dense(128, activation=\"relu\")(headModel)\n",
    "headModel = Dropout(0.5)(headModel)\n",
    "headModel = Dense(2, activation=\"softmax\")(headModel)\n",
    "model = Model(inputs=baseModel.input, outputs=headModel)\n",
    "\n",
    "for layer in baseModel.layers:\n",
    "    layer.trainable = False\n",
    "opt = Adam(lr=INIT_LR, decay=INIT_LR / EPOCHS)\n",
    "model.compile(loss=\"binary_crossentropy\", optimizer=opt,metrics=[\"accuracy\"])"
   ]
  },
  {
   "cell_type": "code",
   "execution_count": 16,
   "id": "57108066",
   "metadata": {},
   "outputs": [
    {
     "name": "stdout",
     "output_type": "stream",
     "text": [
      "Epoch 1/100\n",
      "139/139 [==============================] - 539s 4s/step - loss: 0.6825 - accuracy: 0.6331 - val_loss: 0.5552 - val_accuracy: 0.7484\n",
      "Epoch 2/100\n",
      "139/139 [==============================] - 407s 3s/step - loss: 0.5610 - accuracy: 0.7320 - val_loss: 0.4870 - val_accuracy: 0.7960\n",
      "Epoch 3/100\n",
      "139/139 [==============================] - 281s 2s/step - loss: 0.5127 - accuracy: 0.7666 - val_loss: 0.4488 - val_accuracy: 0.8212\n",
      "Epoch 4/100\n",
      "139/139 [==============================] - 334s 2s/step - loss: 0.4891 - accuracy: 0.7841 - val_loss: 0.4284 - val_accuracy: 0.8284\n",
      "Epoch 5/100\n",
      "139/139 [==============================] - 331s 2s/step - loss: 0.4769 - accuracy: 0.7895 - val_loss: 0.4155 - val_accuracy: 0.8347\n",
      "Epoch 6/100\n",
      "139/139 [==============================] - 348s 3s/step - loss: 0.4473 - accuracy: 0.8105 - val_loss: 0.3999 - val_accuracy: 0.8329\n",
      "Epoch 7/100\n",
      "139/139 [==============================] - 288s 2s/step - loss: 0.4328 - accuracy: 0.8117 - val_loss: 0.3910 - val_accuracy: 0.8392\n",
      "Epoch 8/100\n",
      "139/139 [==============================] - 289s 2s/step - loss: 0.4270 - accuracy: 0.8117 - val_loss: 0.3827 - val_accuracy: 0.8437\n",
      "Epoch 9/100\n",
      "139/139 [==============================] - 285s 2s/step - loss: 0.4167 - accuracy: 0.8253 - val_loss: 0.3734 - val_accuracy: 0.8446\n",
      "Epoch 10/100\n",
      "139/139 [==============================] - 284s 2s/step - loss: 0.4097 - accuracy: 0.8284 - val_loss: 0.3701 - val_accuracy: 0.8347\n",
      "Epoch 11/100\n",
      "139/139 [==============================] - 279s 2s/step - loss: 0.4018 - accuracy: 0.8321 - val_loss: 0.3675 - val_accuracy: 0.8365\n",
      "Epoch 12/100\n",
      "139/139 [==============================] - 276s 2s/step - loss: 0.4014 - accuracy: 0.8300 - val_loss: 0.3643 - val_accuracy: 0.8383\n",
      "Epoch 13/100\n",
      "139/139 [==============================] - 282s 2s/step - loss: 0.3944 - accuracy: 0.8323 - val_loss: 0.3576 - val_accuracy: 0.8455\n",
      "Epoch 14/100\n",
      "139/139 [==============================] - 282s 2s/step - loss: 0.3851 - accuracy: 0.8359 - val_loss: 0.3527 - val_accuracy: 0.8509\n",
      "Epoch 15/100\n",
      "139/139 [==============================] - 276s 2s/step - loss: 0.3844 - accuracy: 0.8309 - val_loss: 0.3501 - val_accuracy: 0.8482\n",
      "Epoch 16/100\n",
      "139/139 [==============================] - 280s 2s/step - loss: 0.3712 - accuracy: 0.8416 - val_loss: 0.3465 - val_accuracy: 0.8473\n",
      "Epoch 17/100\n",
      "139/139 [==============================] - 225s 2s/step - loss: 0.3734 - accuracy: 0.8434 - val_loss: 0.3524 - val_accuracy: 0.8464\n",
      "Epoch 18/100\n",
      "139/139 [==============================] - 210s 2s/step - loss: 0.3595 - accuracy: 0.8506 - val_loss: 0.3432 - val_accuracy: 0.8518\n",
      "Epoch 19/100\n",
      "139/139 [==============================] - 215s 2s/step - loss: 0.3606 - accuracy: 0.8493 - val_loss: 0.3373 - val_accuracy: 0.8553\n",
      "Epoch 20/100\n",
      "139/139 [==============================] - 212s 2s/step - loss: 0.3576 - accuracy: 0.8551 - val_loss: 0.3329 - val_accuracy: 0.8589\n",
      "Epoch 21/100\n",
      "139/139 [==============================] - 215s 2s/step - loss: 0.3561 - accuracy: 0.8504 - val_loss: 0.3315 - val_accuracy: 0.8598\n",
      "Epoch 22/100\n",
      "139/139 [==============================] - 213s 2s/step - loss: 0.3428 - accuracy: 0.8590 - val_loss: 0.3289 - val_accuracy: 0.8616\n",
      "Epoch 23/100\n",
      "139/139 [==============================] - 215s 2s/step - loss: 0.3439 - accuracy: 0.8588 - val_loss: 0.3266 - val_accuracy: 0.8607\n",
      "Epoch 24/100\n",
      "139/139 [==============================] - 212s 2s/step - loss: 0.3458 - accuracy: 0.8597 - val_loss: 0.3245 - val_accuracy: 0.8625\n",
      "Epoch 25/100\n",
      "139/139 [==============================] - 214s 2s/step - loss: 0.3265 - accuracy: 0.8658 - val_loss: 0.3217 - val_accuracy: 0.8661\n",
      "Epoch 26/100\n",
      "139/139 [==============================] - 218s 2s/step - loss: 0.3237 - accuracy: 0.8640 - val_loss: 0.3225 - val_accuracy: 0.8634\n",
      "Epoch 27/100\n",
      "139/139 [==============================] - 224s 2s/step - loss: 0.3324 - accuracy: 0.8599 - val_loss: 0.3345 - val_accuracy: 0.8571\n",
      "Epoch 28/100\n",
      "139/139 [==============================] - 8835s 64s/step - loss: 0.3226 - accuracy: 0.8665 - val_loss: 0.3240 - val_accuracy: 0.8616\n",
      "Epoch 29/100\n",
      "139/139 [==============================] - 374s 3s/step - loss: 0.3157 - accuracy: 0.8701 - val_loss: 0.3265 - val_accuracy: 0.8616\n",
      "Epoch 30/100\n",
      "139/139 [==============================] - 233s 2s/step - loss: 0.3155 - accuracy: 0.8748 - val_loss: 0.3120 - val_accuracy: 0.8670\n",
      "Epoch 31/100\n",
      "139/139 [==============================] - 246s 2s/step - loss: 0.3108 - accuracy: 0.8726 - val_loss: 0.3128 - val_accuracy: 0.8661\n",
      "Epoch 32/100\n",
      "139/139 [==============================] - 220s 2s/step - loss: 0.3160 - accuracy: 0.8739 - val_loss: 0.3132 - val_accuracy: 0.8679\n",
      "Epoch 33/100\n",
      "139/139 [==============================] - 214s 2s/step - loss: 0.3064 - accuracy: 0.8785 - val_loss: 0.3135 - val_accuracy: 0.8724\n",
      "Epoch 34/100\n",
      "139/139 [==============================] - 212s 2s/step - loss: 0.2961 - accuracy: 0.8832 - val_loss: 0.3174 - val_accuracy: 0.8706\n",
      "Epoch 35/100\n",
      "139/139 [==============================] - 211s 2s/step - loss: 0.3082 - accuracy: 0.8778 - val_loss: 0.3059 - val_accuracy: 0.8706\n",
      "Epoch 36/100\n",
      "139/139 [==============================] - 215s 2s/step - loss: 0.2984 - accuracy: 0.8794 - val_loss: 0.3075 - val_accuracy: 0.8715\n",
      "Epoch 37/100\n",
      "139/139 [==============================] - 212s 2s/step - loss: 0.3039 - accuracy: 0.8748 - val_loss: 0.3020 - val_accuracy: 0.8697\n",
      "Epoch 38/100\n",
      "139/139 [==============================] - 215s 2s/step - loss: 0.2947 - accuracy: 0.8803 - val_loss: 0.3015 - val_accuracy: 0.8751\n",
      "Epoch 39/100\n",
      "139/139 [==============================] - 218s 2s/step - loss: 0.2969 - accuracy: 0.8841 - val_loss: 0.3031 - val_accuracy: 0.8769\n",
      "Epoch 40/100\n",
      "139/139 [==============================] - 216s 2s/step - loss: 0.2814 - accuracy: 0.8889 - val_loss: 0.3063 - val_accuracy: 0.8796\n",
      "Epoch 41/100\n",
      "139/139 [==============================] - 239s 2s/step - loss: 0.2826 - accuracy: 0.8857 - val_loss: 0.2977 - val_accuracy: 0.8832\n",
      "Epoch 42/100\n",
      "139/139 [==============================] - 242s 2s/step - loss: 0.2953 - accuracy: 0.8818 - val_loss: 0.2956 - val_accuracy: 0.8814\n",
      "Epoch 43/100\n",
      "139/139 [==============================] - 324s 2s/step - loss: 0.2845 - accuracy: 0.8904 - val_loss: 0.2976 - val_accuracy: 0.8895\n",
      "Epoch 44/100\n",
      "139/139 [==============================] - 272s 2s/step - loss: 0.2801 - accuracy: 0.8938 - val_loss: 0.2921 - val_accuracy: 0.8859\n",
      "Epoch 45/100\n",
      "139/139 [==============================] - 241s 2s/step - loss: 0.2756 - accuracy: 0.8923 - val_loss: 0.3021 - val_accuracy: 0.8796\n",
      "Epoch 46/100\n",
      "139/139 [==============================] - 236s 2s/step - loss: 0.2788 - accuracy: 0.8855 - val_loss: 0.2912 - val_accuracy: 0.8868\n",
      "Epoch 47/100\n",
      "139/139 [==============================] - 235s 2s/step - loss: 0.2771 - accuracy: 0.8916 - val_loss: 0.2893 - val_accuracy: 0.8886\n",
      "Epoch 48/100\n",
      "139/139 [==============================] - 214s 2s/step - loss: 0.2614 - accuracy: 0.9009 - val_loss: 0.2919 - val_accuracy: 0.8922\n",
      "Epoch 49/100\n",
      "139/139 [==============================] - 214s 2s/step - loss: 0.2641 - accuracy: 0.8950 - val_loss: 0.2895 - val_accuracy: 0.8814\n",
      "Epoch 50/100\n",
      "139/139 [==============================] - 214s 2s/step - loss: 0.2723 - accuracy: 0.8975 - val_loss: 0.2900 - val_accuracy: 0.8832\n",
      "Epoch 51/100\n",
      "139/139 [==============================] - 211s 2s/step - loss: 0.2625 - accuracy: 0.8961 - val_loss: 0.2903 - val_accuracy: 0.8823\n",
      "Epoch 52/100\n",
      "139/139 [==============================] - 208s 1s/step - loss: 0.2618 - accuracy: 0.8997 - val_loss: 0.2886 - val_accuracy: 0.8859\n",
      "Epoch 53/100\n",
      "139/139 [==============================] - 211s 2s/step - loss: 0.2552 - accuracy: 0.8970 - val_loss: 0.2877 - val_accuracy: 0.8850\n",
      "Epoch 54/100\n",
      "139/139 [==============================] - 212s 2s/step - loss: 0.2484 - accuracy: 0.9040 - val_loss: 0.2892 - val_accuracy: 0.8868\n",
      "Epoch 55/100\n",
      "139/139 [==============================] - 207s 1s/step - loss: 0.2403 - accuracy: 0.9038 - val_loss: 0.2914 - val_accuracy: 0.8805\n",
      "Epoch 56/100\n",
      "139/139 [==============================] - 208s 1s/step - loss: 0.2522 - accuracy: 0.9004 - val_loss: 0.2853 - val_accuracy: 0.8895\n",
      "Epoch 57/100\n",
      "139/139 [==============================] - 210s 2s/step - loss: 0.2529 - accuracy: 0.8977 - val_loss: 0.2827 - val_accuracy: 0.8823\n",
      "Epoch 58/100\n",
      "139/139 [==============================] - 207s 1s/step - loss: 0.2538 - accuracy: 0.9077 - val_loss: 0.2878 - val_accuracy: 0.8859\n",
      "Epoch 59/100\n",
      "139/139 [==============================] - 212s 2s/step - loss: 0.2515 - accuracy: 0.9006 - val_loss: 0.2807 - val_accuracy: 0.8868\n",
      "Epoch 60/100\n",
      "139/139 [==============================] - 209s 2s/step - loss: 0.2365 - accuracy: 0.9063 - val_loss: 0.2894 - val_accuracy: 0.8823\n",
      "Epoch 61/100\n",
      "139/139 [==============================] - 207s 1s/step - loss: 0.2374 - accuracy: 0.9043 - val_loss: 0.2854 - val_accuracy: 0.8841\n",
      "Epoch 62/100\n",
      "139/139 [==============================] - 208s 1s/step - loss: 0.2390 - accuracy: 0.9079 - val_loss: 0.2813 - val_accuracy: 0.8850\n",
      "Epoch 63/100\n",
      "139/139 [==============================] - 207s 1s/step - loss: 0.2393 - accuracy: 0.9086 - val_loss: 0.2808 - val_accuracy: 0.8868\n",
      "Epoch 64/100\n",
      "139/139 [==============================] - 207s 1s/step - loss: 0.2326 - accuracy: 0.9095 - val_loss: 0.2771 - val_accuracy: 0.8931\n",
      "Epoch 65/100\n",
      "139/139 [==============================] - 212s 2s/step - loss: 0.2338 - accuracy: 0.9083 - val_loss: 0.2804 - val_accuracy: 0.8949\n",
      "Epoch 66/100\n",
      "139/139 [==============================] - 211s 2s/step - loss: 0.2258 - accuracy: 0.9095 - val_loss: 0.2771 - val_accuracy: 0.8922\n",
      "Epoch 67/100\n",
      "139/139 [==============================] - 209s 2s/step - loss: 0.2196 - accuracy: 0.9153 - val_loss: 0.2797 - val_accuracy: 0.8922\n",
      "Epoch 68/100\n",
      "139/139 [==============================] - 211s 2s/step - loss: 0.2372 - accuracy: 0.9072 - val_loss: 0.2752 - val_accuracy: 0.8931\n",
      "Epoch 69/100\n",
      "139/139 [==============================] - 210s 2s/step - loss: 0.2260 - accuracy: 0.9120 - val_loss: 0.2750 - val_accuracy: 0.8922\n",
      "Epoch 70/100\n",
      "139/139 [==============================] - 223s 2s/step - loss: 0.2292 - accuracy: 0.9156 - val_loss: 0.2756 - val_accuracy: 0.8895\n",
      "Epoch 71/100\n",
      "139/139 [==============================] - 248s 2s/step - loss: 0.2151 - accuracy: 0.9210 - val_loss: 0.2747 - val_accuracy: 0.8976\n",
      "Epoch 72/100\n",
      "139/139 [==============================] - 236s 2s/step - loss: 0.2267 - accuracy: 0.9108 - val_loss: 0.2758 - val_accuracy: 0.8940\n",
      "Epoch 73/100\n",
      "139/139 [==============================] - 238s 2s/step - loss: 0.2220 - accuracy: 0.9151 - val_loss: 0.2745 - val_accuracy: 0.8913\n",
      "Epoch 74/100\n",
      "139/139 [==============================] - 245s 2s/step - loss: 0.2112 - accuracy: 0.9221 - val_loss: 0.2769 - val_accuracy: 0.8814\n",
      "Epoch 75/100\n",
      "139/139 [==============================] - 240s 2s/step - loss: 0.2155 - accuracy: 0.9185 - val_loss: 0.2693 - val_accuracy: 0.8868\n",
      "Epoch 76/100\n",
      "139/139 [==============================] - 231s 2s/step - loss: 0.2075 - accuracy: 0.9215 - val_loss: 0.2771 - val_accuracy: 0.8886\n",
      "Epoch 77/100\n",
      "139/139 [==============================] - 255s 2s/step - loss: 0.2071 - accuracy: 0.9217 - val_loss: 0.2706 - val_accuracy: 0.8904\n",
      "Epoch 78/100\n",
      "139/139 [==============================] - 233s 2s/step - loss: 0.2016 - accuracy: 0.9246 - val_loss: 0.2742 - val_accuracy: 0.8913\n",
      "Epoch 79/100\n",
      "139/139 [==============================] - 237s 2s/step - loss: 0.1996 - accuracy: 0.9226 - val_loss: 0.2721 - val_accuracy: 0.8949\n",
      "Epoch 80/100\n",
      "139/139 [==============================] - 223s 2s/step - loss: 0.2082 - accuracy: 0.9235 - val_loss: 0.2727 - val_accuracy: 0.8940\n",
      "Epoch 81/100\n",
      "139/139 [==============================] - 225s 2s/step - loss: 0.2046 - accuracy: 0.9264 - val_loss: 0.2725 - val_accuracy: 0.8904\n",
      "Epoch 82/100\n",
      "139/139 [==============================] - 227s 2s/step - loss: 0.1930 - accuracy: 0.9267 - val_loss: 0.2690 - val_accuracy: 0.8985\n",
      "Epoch 83/100\n",
      "139/139 [==============================] - 214s 2s/step - loss: 0.1949 - accuracy: 0.9305 - val_loss: 0.2728 - val_accuracy: 0.8931\n",
      "Epoch 84/100\n",
      "139/139 [==============================] - 215s 2s/step - loss: 0.2036 - accuracy: 0.9206 - val_loss: 0.2712 - val_accuracy: 0.8958\n",
      "Epoch 85/100\n",
      "139/139 [==============================] - 214s 2s/step - loss: 0.1955 - accuracy: 0.9285 - val_loss: 0.2659 - val_accuracy: 0.8949\n",
      "Epoch 86/100\n",
      "139/139 [==============================] - 215s 2s/step - loss: 0.1919 - accuracy: 0.9242 - val_loss: 0.2700 - val_accuracy: 0.8913\n",
      "Epoch 87/100\n",
      "139/139 [==============================] - 214s 2s/step - loss: 0.1881 - accuracy: 0.9307 - val_loss: 0.2722 - val_accuracy: 0.8940\n",
      "Epoch 88/100\n",
      "139/139 [==============================] - 213s 2s/step - loss: 0.1882 - accuracy: 0.9335 - val_loss: 0.2715 - val_accuracy: 0.8940\n",
      "Epoch 89/100\n",
      "139/139 [==============================] - 214s 2s/step - loss: 0.1898 - accuracy: 0.9251 - val_loss: 0.2689 - val_accuracy: 0.8913\n",
      "Epoch 90/100\n",
      "139/139 [==============================] - 217s 2s/step - loss: 0.1918 - accuracy: 0.9301 - val_loss: 0.2749 - val_accuracy: 0.8877\n",
      "Epoch 91/100\n",
      "139/139 [==============================] - 217s 2s/step - loss: 0.1881 - accuracy: 0.9267 - val_loss: 0.2682 - val_accuracy: 0.8850\n",
      "Epoch 92/100\n",
      "139/139 [==============================] - 216s 2s/step - loss: 0.1847 - accuracy: 0.9328 - val_loss: 0.2716 - val_accuracy: 0.8832\n",
      "Epoch 93/100\n",
      "139/139 [==============================] - 215s 2s/step - loss: 0.1867 - accuracy: 0.9330 - val_loss: 0.2688 - val_accuracy: 0.8886\n",
      "Epoch 94/100\n",
      "139/139 [==============================] - 219s 2s/step - loss: 0.1804 - accuracy: 0.9294 - val_loss: 0.2696 - val_accuracy: 0.8940\n",
      "Epoch 95/100\n",
      "139/139 [==============================] - 214s 2s/step - loss: 0.1771 - accuracy: 0.9341 - val_loss: 0.2664 - val_accuracy: 0.8985\n",
      "Epoch 96/100\n",
      "139/139 [==============================] - 218s 2s/step - loss: 0.1771 - accuracy: 0.9353 - val_loss: 0.2665 - val_accuracy: 0.8922\n",
      "Epoch 97/100\n",
      "139/139 [==============================] - 209s 2s/step - loss: 0.1828 - accuracy: 0.9310 - val_loss: 0.2642 - val_accuracy: 0.8949\n",
      "Epoch 98/100\n",
      "139/139 [==============================] - 209s 2s/step - loss: 0.1741 - accuracy: 0.9364 - val_loss: 0.2623 - val_accuracy: 0.8985\n",
      "Epoch 99/100\n",
      "139/139 [==============================] - 208s 1s/step - loss: 0.1780 - accuracy: 0.9303 - val_loss: 0.2620 - val_accuracy: 0.9021\n",
      "Epoch 100/100\n",
      "139/139 [==============================] - 209s 2s/step - loss: 0.1759 - accuracy: 0.9344 - val_loss: 0.2650 - val_accuracy: 0.8976\n"
     ]
    }
   ],
   "source": [
    "H = model.fit(\n",
    "    aug.flow(X_train, y_train, batch_size=BS),\n",
    "    steps_per_epoch=len(X_train) // BS,\n",
    "    validation_data=(X_val, y_val),\n",
    "    validation_steps=len(X_val) // BS,\n",
    "    epochs=EPOCHS)"
   ]
  },
  {
   "cell_type": "code",
   "execution_count": 17,
   "id": "a631f2b1",
   "metadata": {},
   "outputs": [
    {
     "data": {
      "image/png": "[encoded data removed]",
      "text/plain": [
       "<Figure size 720x288 with 2 Axes>"
      ]
     },
     "metadata": {
      "needs_background": "light"
     },
     "output_type": "display_data"
    }
   ],
   "source": [
    "acc = H.history['accuracy']\n",
    "val_acc = H.history['val_accuracy']\n",
    "\n",
    "loss = H.history['loss']\n",
    "val_loss = H.history['val_loss']\n",
    "\n",
    "epochs=100\n",
    "epochs_range = range(epochs)\n",
    "\n",
    "plt.figure(figsize=(10,4))\n",
    "\n",
    "plt.subplot(1,2,1)\n",
    "plt.plot(epochs_range, acc, label='Training Accuracy') \n",
    "plt.plot(epochs_range, val_acc, label='Validation Accuracy')  \n",
    "plt.legend(loc='lower right')\n",
    "plt.title('Training and Validation Accuracy')\n",
    "\n",
    "plt.subplot(1, 2, 2)\n",
    "plt.plot(epochs_range, loss, label='Training Loss')\n",
    "plt.plot(epochs_range, val_loss, label='Validation Loss')\n",
    "plt.legend(loc='upper right')\n",
    "plt.title('Training and Validation Loss')\n",
    "\n",
    "plt.show()"
   ]
  },
  {
   "cell_type": "code",
   "execution_count": 18,
   "id": "1e7a9b25",
   "metadata": {},
   "outputs": [
    {
     "name": "stderr",
     "output_type": "stream",
     "text": [
      "C:\\Users\\shaha\\anaconda3\\lib\\site-packages\\keras\\engine\\functional.py:1410: CustomMaskWarning: Custom mask layers require a config and must override get_config. When loading, the custom mask layer must be passed to the custom_objects argument.\n",
      "  layer_config = serialize_layer_fn(layer)\n"
     ]
    },
    {
     "name": "stdout",
     "output_type": "stream",
     "text": [
      "Model Saved!\n"
     ]
    }
   ],
   "source": [
    "model.save(\"smoking_modelMN.h5\")\n",
    "print('Model Saved!')"
   ]
  },
  {
   "cell_type": "code",
   "execution_count": 2,
   "id": "6317cdd5",
   "metadata": {},
   "outputs": [],
   "source": [
    "from keras.models import load_model\n",
    "Model = load_model(\"smoking_modelMN.h5\")"
   ]
  },
  {
   "cell_type": "code",
   "execution_count": 19,
   "id": "f43e0e38",
   "metadata": {},
   "outputs": [
    {
     "name": "stdout",
     "output_type": "stream",
     "text": [
      "WARNING:tensorflow:Compiled the loaded model, but the compiled metrics have yet to be built. `model.compile_metrics` will be empty until you train or evaluate the model.\n",
      "Model Saved!\n"
     ]
    }
   ],
   "source": [
    "baseModel.save(\"smoking_modelMN2.h5\")\n",
    "print('Model Saved!')"
   ]
  },
  {
   "cell_type": "markdown",
   "id": "98186b84",
   "metadata": {},
   "source": [
    "# For Testing"
   ]
  },
  {
   "cell_type": "code",
   "execution_count": 27,
   "id": "4ee86b51",
   "metadata": {},
   "outputs": [],
   "source": [
    "dataset_path=r'C:\\Users\\shaha\\Desktop\\Test'\n",
    "imagePaths = list(paths.list_images(dataset_path))"
   ]
  },
  {
   "cell_type": "code",
   "execution_count": 28,
   "id": "daa83519",
   "metadata": {},
   "outputs": [],
   "source": [
    "X_test = []\n",
    "y_test = []\n",
    "for imagePath in imagePaths:\n",
    "    label = imagePath.split(os.path.sep)[-2]\n",
    "    image = load_img(imagePath, target_size=(224, 224))\n",
    "    image = img_to_array(image)\n",
    "    image = preprocess_input(image)\n",
    "    X_test.append(image)\n",
    "    y_test.append(label)\n",
    "X_test = np.array(X_test, dtype=\"float32\")\n",
    "y_test = np.array(y_test)\n",
    "lb = LabelBinarizer()\n",
    "y_test = lb.fit_transform(y_test)\n",
    "y_test = to_categorical(y_test)"
   ]
  },
  {
   "cell_type": "code",
   "execution_count": 6,
   "id": "71c22997",
   "metadata": {},
   "outputs": [
    {
     "name": "stdout",
     "output_type": "stream",
     "text": [
      "13/13 [==============================] - 12s 914ms/step - loss: 0.2508 - accuracy: 0.9048\n"
     ]
    },
    {
     "data": {
      "text/plain": [
       "[0.25084197521209717, 0.9047619104385376]"
      ]
     },
     "execution_count": 6,
     "metadata": {},
     "output_type": "execute_result"
    }
   ],
   "source": [
    "Model.evaluate(X_test,y_test)"
   ]
  },
  {
   "cell_type": "markdown",
   "id": "c8c9942b",
   "metadata": {},
   "source": [
    "## MobileNet With epoch=200"
   ]
  },
  {
   "cell_type": "code",
   "execution_count": 20,
   "id": "c75cd9be",
   "metadata": {},
   "outputs": [],
   "source": [
    "EPOCHS = 200"
   ]
  },
  {
   "cell_type": "code",
   "execution_count": 21,
   "id": "e804835e",
   "metadata": {},
   "outputs": [
    {
     "name": "stdout",
     "output_type": "stream",
     "text": [
      "WARNING:tensorflow:`input_shape` is undefined or non-square, or `rows` is not in [96, 128, 160, 192, 224]. Weights for input shape (224, 224) will be loaded as the default.\n"
     ]
    },
    {
     "name": "stderr",
     "output_type": "stream",
     "text": [
      "C:\\Users\\shaha\\anaconda3\\lib\\site-packages\\keras\\optimizer_v2\\adam.py:105: UserWarning: The `lr` argument is deprecated, use `learning_rate` instead.\n",
      "  super(Adam, self).__init__(name, **kwargs)\n"
     ]
    }
   ],
   "source": [
    "baseModel = MobileNetV2(weights=\"imagenet\", include_top=False,input_tensor=Input(shape=(224, 224, 3)))\n",
    "\n",
    "headModel = baseModel.output\n",
    "headModel = AveragePooling2D(pool_size=(7, 7))(headModel)\n",
    "headModel = Flatten(name=\"flatten\")(headModel)\n",
    "headModel = Dense(128, activation=\"relu\")(headModel)\n",
    "headModel = Dropout(0.5)(headModel)\n",
    "headModel = Dense(2, activation=\"softmax\")(headModel)\n",
    "model = Model(inputs=baseModel.input, outputs=headModel)\n",
    "\n",
    "for layer in baseModel.layers:\n",
    "    layer.trainable = False\n",
    "opt = Adam(lr=INIT_LR, decay=INIT_LR / EPOCHS)\n",
    "model.compile(loss=\"binary_crossentropy\", optimizer=opt,metrics=[\"accuracy\"])"
   ]
  },
  {
   "cell_type": "code",
   "execution_count": 22,
   "id": "47f3e8ce",
   "metadata": {},
   "outputs": [
    {
     "name": "stdout",
     "output_type": "stream",
     "text": [
      "Epoch 1/200\n",
      "139/139 [==============================] - 311s 2s/step - loss: 0.6734 - accuracy: 0.6392 - val_loss: 0.5504 - val_accuracy: 0.7565\n",
      "Epoch 2/200\n",
      "139/139 [==============================] - 292s 2s/step - loss: 0.5596 - accuracy: 0.7236 - val_loss: 0.4855 - val_accuracy: 0.7978\n",
      "Epoch 3/200\n",
      "139/139 [==============================] - 303s 2s/step - loss: 0.5118 - accuracy: 0.7673 - val_loss: 0.4444 - val_accuracy: 0.8203\n",
      "Epoch 4/200\n",
      "139/139 [==============================] - 301s 2s/step - loss: 0.4835 - accuracy: 0.7827 - val_loss: 0.4275 - val_accuracy: 0.8311\n",
      "Epoch 5/200\n",
      "139/139 [==============================] - 320s 2s/step - loss: 0.4713 - accuracy: 0.7936 - val_loss: 0.4196 - val_accuracy: 0.8140\n",
      "Epoch 6/200\n",
      "139/139 [==============================] - 324s 2s/step - loss: 0.4558 - accuracy: 0.7938 - val_loss: 0.4028 - val_accuracy: 0.8311\n",
      "Epoch 7/200\n",
      "139/139 [==============================] - 310s 2s/step - loss: 0.4379 - accuracy: 0.8031 - val_loss: 0.3873 - val_accuracy: 0.8446\n",
      "Epoch 8/200\n",
      "139/139 [==============================] - 347s 2s/step - loss: 0.4246 - accuracy: 0.8205 - val_loss: 0.3839 - val_accuracy: 0.8374\n",
      "Epoch 9/200\n",
      "139/139 [==============================] - 398s 3s/step - loss: 0.4196 - accuracy: 0.8178 - val_loss: 0.3725 - val_accuracy: 0.8410\n",
      "Epoch 10/200\n",
      "139/139 [==============================] - 428s 3s/step - loss: 0.4026 - accuracy: 0.8305 - val_loss: 0.3653 - val_accuracy: 0.8437\n",
      "Epoch 11/200\n",
      "139/139 [==============================] - 362s 3s/step - loss: 0.4019 - accuracy: 0.8271 - val_loss: 0.3609 - val_accuracy: 0.8527\n",
      "Epoch 12/200\n",
      "139/139 [==============================] - 359s 3s/step - loss: 0.3927 - accuracy: 0.8318 - val_loss: 0.3564 - val_accuracy: 0.8455\n",
      "Epoch 13/200\n",
      "139/139 [==============================] - 457s 3s/step - loss: 0.3819 - accuracy: 0.8393 - val_loss: 0.3592 - val_accuracy: 0.8535\n",
      "Epoch 14/200\n",
      "139/139 [==============================] - 425s 3s/step - loss: 0.3858 - accuracy: 0.8379 - val_loss: 0.3595 - val_accuracy: 0.8527\n",
      "Epoch 15/200\n",
      "139/139 [==============================] - 448s 3s/step - loss: 0.3779 - accuracy: 0.8379 - val_loss: 0.3517 - val_accuracy: 0.8544\n",
      "Epoch 16/200\n",
      "139/139 [==============================] - 555s 4s/step - loss: 0.3782 - accuracy: 0.8402 - val_loss: 0.3438 - val_accuracy: 0.8500\n",
      "Epoch 17/200\n",
      "139/139 [==============================] - 598s 4s/step - loss: 0.3668 - accuracy: 0.8443 - val_loss: 0.3406 - val_accuracy: 0.8589\n",
      "Epoch 18/200\n",
      "139/139 [==============================] - 695s 5s/step - loss: 0.3589 - accuracy: 0.8522 - val_loss: 0.3373 - val_accuracy: 0.8589\n",
      "Epoch 19/200\n",
      "139/139 [==============================] - 629s 5s/step - loss: 0.3540 - accuracy: 0.8558 - val_loss: 0.3432 - val_accuracy: 0.8571\n",
      "Epoch 20/200\n",
      "139/139 [==============================] - 727s 5s/step - loss: 0.3512 - accuracy: 0.8610 - val_loss: 0.3312 - val_accuracy: 0.8661\n",
      "Epoch 21/200\n",
      "139/139 [==============================] - 577s 4s/step - loss: 0.3545 - accuracy: 0.8506 - val_loss: 0.3315 - val_accuracy: 0.8607\n",
      "Epoch 22/200\n",
      "139/139 [==============================] - 687s 5s/step - loss: 0.3361 - accuracy: 0.8567 - val_loss: 0.3293 - val_accuracy: 0.8688\n",
      "Epoch 23/200\n",
      "139/139 [==============================] - 749s 5s/step - loss: 0.3584 - accuracy: 0.8529 - val_loss: 0.3241 - val_accuracy: 0.8607\n",
      "Epoch 24/200\n",
      "139/139 [==============================] - 702s 5s/step - loss: 0.3444 - accuracy: 0.8576 - val_loss: 0.3223 - val_accuracy: 0.8643\n",
      "Epoch 25/200\n",
      "139/139 [==============================] - 710s 5s/step - loss: 0.3371 - accuracy: 0.8626 - val_loss: 0.3253 - val_accuracy: 0.8589\n",
      "Epoch 26/200\n",
      "139/139 [==============================] - 476s 3s/step - loss: 0.3322 - accuracy: 0.8642 - val_loss: 0.3195 - val_accuracy: 0.8643\n",
      "Epoch 27/200\n",
      "139/139 [==============================] - 316s 2s/step - loss: 0.3260 - accuracy: 0.8717 - val_loss: 0.3198 - val_accuracy: 0.8634\n",
      "Epoch 28/200\n",
      "139/139 [==============================] - 325s 2s/step - loss: 0.3324 - accuracy: 0.8658 - val_loss: 0.3217 - val_accuracy: 0.8670\n",
      "Epoch 29/200\n",
      "139/139 [==============================] - 375s 3s/step - loss: 0.3126 - accuracy: 0.8723 - val_loss: 0.3113 - val_accuracy: 0.8769\n",
      "Epoch 30/200\n",
      "139/139 [==============================] - 396s 3s/step - loss: 0.3132 - accuracy: 0.8714 - val_loss: 0.3109 - val_accuracy: 0.8706\n",
      "Epoch 31/200\n",
      "139/139 [==============================] - 437s 3s/step - loss: 0.3124 - accuracy: 0.8721 - val_loss: 0.3114 - val_accuracy: 0.8661\n",
      "Epoch 32/200\n",
      "139/139 [==============================] - 289s 2s/step - loss: 0.3134 - accuracy: 0.8762 - val_loss: 0.3096 - val_accuracy: 0.8715\n",
      "Epoch 33/200\n",
      "139/139 [==============================] - 276s 2s/step - loss: 0.3056 - accuracy: 0.8821 - val_loss: 0.3130 - val_accuracy: 0.8706\n",
      "Epoch 34/200\n",
      "139/139 [==============================] - 311s 2s/step - loss: 0.3030 - accuracy: 0.8735 - val_loss: 0.3092 - val_accuracy: 0.8679\n",
      "Epoch 35/200\n",
      "139/139 [==============================] - 309s 2s/step - loss: 0.2958 - accuracy: 0.8794 - val_loss: 0.3103 - val_accuracy: 0.8751\n",
      "Epoch 36/200\n",
      "139/139 [==============================] - 332s 2s/step - loss: 0.3015 - accuracy: 0.8723 - val_loss: 0.3054 - val_accuracy: 0.8715\n",
      "Epoch 37/200\n",
      "139/139 [==============================] - 290s 2s/step - loss: 0.2982 - accuracy: 0.8848 - val_loss: 0.3029 - val_accuracy: 0.8742\n",
      "Epoch 38/200\n",
      "139/139 [==============================] - 298s 2s/step - loss: 0.2910 - accuracy: 0.8848 - val_loss: 0.3068 - val_accuracy: 0.8724\n",
      "Epoch 39/200\n",
      "139/139 [==============================] - 264s 2s/step - loss: 0.2795 - accuracy: 0.8909 - val_loss: 0.3018 - val_accuracy: 0.8778\n",
      "Epoch 40/200\n",
      "139/139 [==============================] - 273s 2s/step - loss: 0.2827 - accuracy: 0.8852 - val_loss: 0.3063 - val_accuracy: 0.8769\n",
      "Epoch 41/200\n",
      "139/139 [==============================] - 280s 2s/step - loss: 0.2769 - accuracy: 0.8848 - val_loss: 0.3031 - val_accuracy: 0.8760\n",
      "Epoch 42/200\n",
      "139/139 [==============================] - 304s 2s/step - loss: 0.2787 - accuracy: 0.8884 - val_loss: 0.2947 - val_accuracy: 0.8751\n",
      "Epoch 43/200\n",
      "139/139 [==============================] - 275s 2s/step - loss: 0.2767 - accuracy: 0.8963 - val_loss: 0.2965 - val_accuracy: 0.8787\n",
      "Epoch 44/200\n",
      "139/139 [==============================] - 267s 2s/step - loss: 0.2714 - accuracy: 0.8975 - val_loss: 0.2971 - val_accuracy: 0.8796\n",
      "Epoch 45/200\n",
      "139/139 [==============================] - 354s 3s/step - loss: 0.2733 - accuracy: 0.8934 - val_loss: 0.2931 - val_accuracy: 0.8769\n",
      "Epoch 46/200\n",
      "139/139 [==============================] - 407s 3s/step - loss: 0.2644 - accuracy: 0.8954 - val_loss: 0.2953 - val_accuracy: 0.8778\n",
      "Epoch 47/200\n",
      "139/139 [==============================] - 329s 2s/step - loss: 0.2679 - accuracy: 0.8929 - val_loss: 0.2962 - val_accuracy: 0.8841\n",
      "Epoch 48/200\n",
      "139/139 [==============================] - 374s 3s/step - loss: 0.2681 - accuracy: 0.8952 - val_loss: 0.3000 - val_accuracy: 0.8823\n",
      "Epoch 49/200\n",
      "139/139 [==============================] - 316s 2s/step - loss: 0.2640 - accuracy: 0.8914 - val_loss: 0.2941 - val_accuracy: 0.8859\n",
      "Epoch 50/200\n",
      "139/139 [==============================] - 286s 2s/step - loss: 0.2604 - accuracy: 0.8961 - val_loss: 0.2948 - val_accuracy: 0.8832\n",
      "Epoch 51/200\n",
      "139/139 [==============================] - 273s 2s/step - loss: 0.2609 - accuracy: 0.8990 - val_loss: 0.2907 - val_accuracy: 0.8733\n",
      "Epoch 52/200\n",
      "139/139 [==============================] - 305s 2s/step - loss: 0.2617 - accuracy: 0.8959 - val_loss: 0.2927 - val_accuracy: 0.8814\n",
      "Epoch 53/200\n",
      "139/139 [==============================] - 326s 2s/step - loss: 0.2587 - accuracy: 0.8975 - val_loss: 0.2913 - val_accuracy: 0.8751\n",
      "Epoch 54/200\n",
      "139/139 [==============================] - 235s 2s/step - loss: 0.2563 - accuracy: 0.8993 - val_loss: 0.2924 - val_accuracy: 0.8805\n",
      "Epoch 55/200\n",
      "139/139 [==============================] - 216s 2s/step - loss: 0.2529 - accuracy: 0.9006 - val_loss: 0.2933 - val_accuracy: 0.8787\n",
      "Epoch 56/200\n",
      "139/139 [==============================] - 214s 2s/step - loss: 0.2442 - accuracy: 0.9054 - val_loss: 0.2894 - val_accuracy: 0.8787\n",
      "Epoch 57/200\n",
      "139/139 [==============================] - 223s 2s/step - loss: 0.2459 - accuracy: 0.9022 - val_loss: 0.2858 - val_accuracy: 0.8778\n",
      "Epoch 58/200\n",
      "139/139 [==============================] - 220s 2s/step - loss: 0.2516 - accuracy: 0.9033 - val_loss: 0.2839 - val_accuracy: 0.8787\n",
      "Epoch 59/200\n",
      "139/139 [==============================] - 212s 2s/step - loss: 0.2443 - accuracy: 0.9054 - val_loss: 0.2896 - val_accuracy: 0.8814\n",
      "Epoch 60/200\n",
      "139/139 [==============================] - 231s 2s/step - loss: 0.2408 - accuracy: 0.9077 - val_loss: 0.2878 - val_accuracy: 0.8805\n",
      "Epoch 61/200\n",
      "139/139 [==============================] - 442s 3s/step - loss: 0.2398 - accuracy: 0.9101 - val_loss: 0.2856 - val_accuracy: 0.8823\n",
      "Epoch 62/200\n",
      "139/139 [==============================] - 325s 2s/step - loss: 0.2370 - accuracy: 0.9061 - val_loss: 0.2853 - val_accuracy: 0.8841\n",
      "Epoch 63/200\n",
      "139/139 [==============================] - 328s 2s/step - loss: 0.2314 - accuracy: 0.9097 - val_loss: 0.2964 - val_accuracy: 0.8922\n",
      "Epoch 64/200\n",
      "139/139 [==============================] - 290s 2s/step - loss: 0.2327 - accuracy: 0.9106 - val_loss: 0.2879 - val_accuracy: 0.8868\n",
      "Epoch 65/200\n",
      "139/139 [==============================] - 292s 2s/step - loss: 0.2316 - accuracy: 0.9106 - val_loss: 0.2958 - val_accuracy: 0.8841\n",
      "Epoch 66/200\n",
      "139/139 [==============================] - 317s 2s/step - loss: 0.2212 - accuracy: 0.9183 - val_loss: 0.2831 - val_accuracy: 0.8823\n",
      "Epoch 67/200\n",
      "139/139 [==============================] - 267s 2s/step - loss: 0.2234 - accuracy: 0.9129 - val_loss: 0.2919 - val_accuracy: 0.8877\n",
      "Epoch 68/200\n",
      "139/139 [==============================] - 265s 2s/step - loss: 0.2256 - accuracy: 0.9174 - val_loss: 0.2846 - val_accuracy: 0.8895\n",
      "Epoch 69/200\n",
      "139/139 [==============================] - 264s 2s/step - loss: 0.2208 - accuracy: 0.9165 - val_loss: 0.2839 - val_accuracy: 0.8742\n",
      "Epoch 70/200\n",
      "139/139 [==============================] - 261s 2s/step - loss: 0.2207 - accuracy: 0.9187 - val_loss: 0.2865 - val_accuracy: 0.8787\n",
      "Epoch 71/200\n",
      "139/139 [==============================] - 261s 2s/step - loss: 0.2111 - accuracy: 0.9167 - val_loss: 0.2840 - val_accuracy: 0.8886\n",
      "Epoch 72/200\n",
      "139/139 [==============================] - 261s 2s/step - loss: 0.2197 - accuracy: 0.9226 - val_loss: 0.2842 - val_accuracy: 0.8832\n",
      "Epoch 73/200\n",
      "139/139 [==============================] - 264s 2s/step - loss: 0.2112 - accuracy: 0.9212 - val_loss: 0.2875 - val_accuracy: 0.8751\n",
      "Epoch 74/200\n",
      "139/139 [==============================] - 264s 2s/step - loss: 0.2051 - accuracy: 0.9201 - val_loss: 0.2856 - val_accuracy: 0.8760\n",
      "Epoch 75/200\n",
      "139/139 [==============================] - 265s 2s/step - loss: 0.2088 - accuracy: 0.9201 - val_loss: 0.2818 - val_accuracy: 0.8760\n",
      "Epoch 76/200\n",
      "139/139 [==============================] - 262s 2s/step - loss: 0.2066 - accuracy: 0.9165 - val_loss: 0.2797 - val_accuracy: 0.8850\n",
      "Epoch 77/200\n",
      "139/139 [==============================] - 266s 2s/step - loss: 0.2040 - accuracy: 0.9206 - val_loss: 0.2836 - val_accuracy: 0.8850\n",
      "Epoch 78/200\n",
      "139/139 [==============================] - 267s 2s/step - loss: 0.2070 - accuracy: 0.9212 - val_loss: 0.2813 - val_accuracy: 0.8886\n",
      "Epoch 79/200\n",
      "139/139 [==============================] - 270s 2s/step - loss: 0.2007 - accuracy: 0.9244 - val_loss: 0.2807 - val_accuracy: 0.8868\n",
      "Epoch 80/200\n",
      "139/139 [==============================] - 261s 2s/step - loss: 0.2009 - accuracy: 0.9271 - val_loss: 0.2858 - val_accuracy: 0.8823\n",
      "Epoch 81/200\n",
      "139/139 [==============================] - 264s 2s/step - loss: 0.2031 - accuracy: 0.9217 - val_loss: 0.2806 - val_accuracy: 0.8868\n",
      "Epoch 82/200\n",
      "139/139 [==============================] - 263s 2s/step - loss: 0.1904 - accuracy: 0.9278 - val_loss: 0.2836 - val_accuracy: 0.8877\n",
      "Epoch 83/200\n",
      "139/139 [==============================] - 264s 2s/step - loss: 0.1947 - accuracy: 0.9262 - val_loss: 0.2773 - val_accuracy: 0.8904\n",
      "Epoch 84/200\n",
      "139/139 [==============================] - 262s 2s/step - loss: 0.1987 - accuracy: 0.9276 - val_loss: 0.2780 - val_accuracy: 0.8895\n",
      "Epoch 85/200\n",
      "139/139 [==============================] - 262s 2s/step - loss: 0.1867 - accuracy: 0.9301 - val_loss: 0.2815 - val_accuracy: 0.8913\n",
      "Epoch 86/200\n",
      "139/139 [==============================] - 262s 2s/step - loss: 0.1894 - accuracy: 0.9296 - val_loss: 0.2822 - val_accuracy: 0.8895\n",
      "Epoch 87/200\n",
      "139/139 [==============================] - 262s 2s/step - loss: 0.1944 - accuracy: 0.9244 - val_loss: 0.2855 - val_accuracy: 0.8913\n",
      "Epoch 88/200\n",
      "139/139 [==============================] - 262s 2s/step - loss: 0.1903 - accuracy: 0.9285 - val_loss: 0.2818 - val_accuracy: 0.8913\n",
      "Epoch 89/200\n",
      "139/139 [==============================] - 263s 2s/step - loss: 0.1857 - accuracy: 0.9285 - val_loss: 0.2796 - val_accuracy: 0.8886\n",
      "Epoch 90/200\n",
      "139/139 [==============================] - 262s 2s/step - loss: 0.1878 - accuracy: 0.9282 - val_loss: 0.2814 - val_accuracy: 0.8868\n",
      "Epoch 91/200\n",
      "139/139 [==============================] - 261s 2s/step - loss: 0.1846 - accuracy: 0.9296 - val_loss: 0.2822 - val_accuracy: 0.8877\n",
      "Epoch 92/200\n",
      "139/139 [==============================] - 261s 2s/step - loss: 0.1811 - accuracy: 0.9357 - val_loss: 0.2782 - val_accuracy: 0.8859\n",
      "Epoch 93/200\n",
      "139/139 [==============================] - 262s 2s/step - loss: 0.1857 - accuracy: 0.9276 - val_loss: 0.2844 - val_accuracy: 0.8895\n",
      "Epoch 94/200\n",
      "139/139 [==============================] - 262s 2s/step - loss: 0.1843 - accuracy: 0.9269 - val_loss: 0.2837 - val_accuracy: 0.8859\n",
      "Epoch 95/200\n",
      "139/139 [==============================] - 264s 2s/step - loss: 0.1822 - accuracy: 0.9278 - val_loss: 0.2873 - val_accuracy: 0.8877\n",
      "Epoch 96/200\n",
      "139/139 [==============================] - ETA: 0s - loss: 0.1807 - accuracy: 0.93 - 2275s 16s/step - loss: 0.1807 - accuracy: 0.9312 - val_loss: 0.2824 - val_accuracy: 0.8904\n",
      "Epoch 97/200\n",
      "139/139 [==============================] - 599s 4s/step - loss: 0.1739 - accuracy: 0.9398 - val_loss: 0.2791 - val_accuracy: 0.8940\n",
      "Epoch 98/200\n",
      "139/139 [==============================] - 359s 3s/step - loss: 0.1782 - accuracy: 0.9332 - val_loss: 0.2789 - val_accuracy: 0.8850\n",
      "Epoch 99/200\n",
      "139/139 [==============================] - 277s 2s/step - loss: 0.1667 - accuracy: 0.9402 - val_loss: 0.2815 - val_accuracy: 0.8904\n",
      "Epoch 100/200\n",
      "139/139 [==============================] - 261s 2s/step - loss: 0.1685 - accuracy: 0.9357 - val_loss: 0.2794 - val_accuracy: 0.8922\n",
      "Epoch 101/200\n",
      "139/139 [==============================] - 262s 2s/step - loss: 0.1804 - accuracy: 0.9316 - val_loss: 0.2821 - val_accuracy: 0.8958\n",
      "Epoch 102/200\n",
      "139/139 [==============================] - 263s 2s/step - loss: 0.1643 - accuracy: 0.9398 - val_loss: 0.2869 - val_accuracy: 0.8913\n",
      "Epoch 103/200\n",
      "139/139 [==============================] - 267s 2s/step - loss: 0.1695 - accuracy: 0.9344 - val_loss: 0.2783 - val_accuracy: 0.8949\n",
      "Epoch 104/200\n",
      "139/139 [==============================] - 263s 2s/step - loss: 0.1683 - accuracy: 0.9357 - val_loss: 0.2807 - val_accuracy: 0.8931\n",
      "Epoch 105/200\n",
      "139/139 [==============================] - 263s 2s/step - loss: 0.1657 - accuracy: 0.9380 - val_loss: 0.2877 - val_accuracy: 0.8868\n",
      "Epoch 106/200\n",
      "139/139 [==============================] - 263s 2s/step - loss: 0.1688 - accuracy: 0.9371 - val_loss: 0.2728 - val_accuracy: 0.8940\n",
      "Epoch 107/200\n",
      "139/139 [==============================] - 265s 2s/step - loss: 0.1702 - accuracy: 0.9330 - val_loss: 0.2831 - val_accuracy: 0.8877\n",
      "Epoch 108/200\n",
      "139/139 [==============================] - 268s 2s/step - loss: 0.1683 - accuracy: 0.9398 - val_loss: 0.2702 - val_accuracy: 0.8940\n",
      "Epoch 109/200\n",
      "139/139 [==============================] - 263s 2s/step - loss: 0.1678 - accuracy: 0.9371 - val_loss: 0.2802 - val_accuracy: 0.8895\n",
      "Epoch 110/200\n",
      "139/139 [==============================] - 262s 2s/step - loss: 0.1688 - accuracy: 0.9387 - val_loss: 0.2791 - val_accuracy: 0.8913\n",
      "Epoch 111/200\n",
      "139/139 [==============================] - 277s 2s/step - loss: 0.1705 - accuracy: 0.9371 - val_loss: 0.2780 - val_accuracy: 0.8931\n",
      "Epoch 112/200\n",
      "139/139 [==============================] - 292s 2s/step - loss: 0.1651 - accuracy: 0.9373 - val_loss: 0.2846 - val_accuracy: 0.8931\n",
      "Epoch 113/200\n"
     ]
    },
    {
     "name": "stdout",
     "output_type": "stream",
     "text": [
      "139/139 [==============================] - 261s 2s/step - loss: 0.1619 - accuracy: 0.9377 - val_loss: 0.2801 - val_accuracy: 0.8940\n",
      "Epoch 114/200\n",
      "139/139 [==============================] - 254s 2s/step - loss: 0.1665 - accuracy: 0.9391 - val_loss: 0.2808 - val_accuracy: 0.8913\n",
      "Epoch 115/200\n",
      "139/139 [==============================] - 256s 2s/step - loss: 0.1613 - accuracy: 0.9411 - val_loss: 0.2757 - val_accuracy: 0.8931\n",
      "Epoch 116/200\n",
      "139/139 [==============================] - 258s 2s/step - loss: 0.1534 - accuracy: 0.9421 - val_loss: 0.2790 - val_accuracy: 0.8931\n",
      "Epoch 117/200\n",
      "139/139 [==============================] - 254s 2s/step - loss: 0.1567 - accuracy: 0.9430 - val_loss: 0.2769 - val_accuracy: 0.8913\n",
      "Epoch 118/200\n",
      "139/139 [==============================] - 255s 2s/step - loss: 0.1600 - accuracy: 0.9391 - val_loss: 0.2759 - val_accuracy: 0.8940\n",
      "Epoch 119/200\n",
      "139/139 [==============================] - 253s 2s/step - loss: 0.1607 - accuracy: 0.9380 - val_loss: 0.2775 - val_accuracy: 0.8958\n",
      "Epoch 120/200\n",
      "139/139 [==============================] - 254s 2s/step - loss: 0.1598 - accuracy: 0.9409 - val_loss: 0.2814 - val_accuracy: 0.8904\n",
      "Epoch 121/200\n",
      "139/139 [==============================] - 254s 2s/step - loss: 0.1506 - accuracy: 0.9434 - val_loss: 0.2783 - val_accuracy: 0.8940\n",
      "Epoch 122/200\n",
      "139/139 [==============================] - 253s 2s/step - loss: 0.1534 - accuracy: 0.9432 - val_loss: 0.2779 - val_accuracy: 0.8895\n",
      "Epoch 123/200\n",
      "139/139 [==============================] - 256s 2s/step - loss: 0.1504 - accuracy: 0.9425 - val_loss: 0.2853 - val_accuracy: 0.8868\n",
      "Epoch 124/200\n",
      "139/139 [==============================] - 256s 2s/step - loss: 0.1527 - accuracy: 0.9436 - val_loss: 0.2740 - val_accuracy: 0.8967\n",
      "Epoch 125/200\n",
      "139/139 [==============================] - 254s 2s/step - loss: 0.1461 - accuracy: 0.9464 - val_loss: 0.2806 - val_accuracy: 0.8922\n",
      "Epoch 126/200\n",
      "139/139 [==============================] - 249s 2s/step - loss: 0.1428 - accuracy: 0.9482 - val_loss: 0.2844 - val_accuracy: 0.8904\n",
      "Epoch 127/200\n",
      "139/139 [==============================] - 253s 2s/step - loss: 0.1454 - accuracy: 0.9466 - val_loss: 0.2749 - val_accuracy: 0.8913\n",
      "Epoch 128/200\n",
      "139/139 [==============================] - 260s 2s/step - loss: 0.1479 - accuracy: 0.9459 - val_loss: 0.2719 - val_accuracy: 0.8922\n",
      "Epoch 129/200\n",
      "139/139 [==============================] - 253s 2s/step - loss: 0.1471 - accuracy: 0.9482 - val_loss: 0.2766 - val_accuracy: 0.8958\n",
      "Epoch 130/200\n",
      "139/139 [==============================] - 254s 2s/step - loss: 0.1507 - accuracy: 0.9459 - val_loss: 0.2767 - val_accuracy: 0.8967\n",
      "Epoch 131/200\n",
      "139/139 [==============================] - 253s 2s/step - loss: 0.1363 - accuracy: 0.9502 - val_loss: 0.2796 - val_accuracy: 0.8949\n",
      "Epoch 132/200\n",
      "139/139 [==============================] - 255s 2s/step - loss: 0.1353 - accuracy: 0.9495 - val_loss: 0.2784 - val_accuracy: 0.8976\n",
      "Epoch 133/200\n",
      "139/139 [==============================] - 253s 2s/step - loss: 0.1384 - accuracy: 0.9511 - val_loss: 0.2830 - val_accuracy: 0.8976\n",
      "Epoch 134/200\n",
      "139/139 [==============================] - 252s 2s/step - loss: 0.1452 - accuracy: 0.9498 - val_loss: 0.2874 - val_accuracy: 0.8886\n",
      "Epoch 135/200\n",
      "139/139 [==============================] - 251s 2s/step - loss: 0.1435 - accuracy: 0.9450 - val_loss: 0.2769 - val_accuracy: 0.8940\n",
      "Epoch 136/200\n",
      "139/139 [==============================] - 252s 2s/step - loss: 0.1353 - accuracy: 0.9525 - val_loss: 0.2797 - val_accuracy: 0.8967\n",
      "Epoch 137/200\n",
      "139/139 [==============================] - 265s 2s/step - loss: 0.1357 - accuracy: 0.9513 - val_loss: 0.2820 - val_accuracy: 0.8949\n",
      "Epoch 138/200\n",
      "139/139 [==============================] - 338s 2s/step - loss: 0.1374 - accuracy: 0.9468 - val_loss: 0.2767 - val_accuracy: 0.8949\n",
      "Epoch 139/200\n",
      "139/139 [==============================] - 388s 3s/step - loss: 0.1366 - accuracy: 0.9495 - val_loss: 0.2808 - val_accuracy: 0.8949\n",
      "Epoch 140/200\n",
      "139/139 [==============================] - 270s 2s/step - loss: 0.1348 - accuracy: 0.9509 - val_loss: 0.2884 - val_accuracy: 0.8994\n",
      "Epoch 141/200\n",
      "139/139 [==============================] - 263s 2s/step - loss: 0.1365 - accuracy: 0.9507 - val_loss: 0.2755 - val_accuracy: 0.8967\n",
      "Epoch 142/200\n",
      "139/139 [==============================] - 262s 2s/step - loss: 0.1288 - accuracy: 0.9584 - val_loss: 0.2813 - val_accuracy: 0.8985\n",
      "Epoch 143/200\n",
      "139/139 [==============================] - 272s 2s/step - loss: 0.1350 - accuracy: 0.9502 - val_loss: 0.2772 - val_accuracy: 0.8958\n",
      "Epoch 144/200\n",
      "139/139 [==============================] - 262s 2s/step - loss: 0.1258 - accuracy: 0.9561 - val_loss: 0.2766 - val_accuracy: 0.8940\n",
      "Epoch 145/200\n",
      "139/139 [==============================] - 260s 2s/step - loss: 0.1313 - accuracy: 0.9502 - val_loss: 0.2738 - val_accuracy: 0.8895\n",
      "Epoch 146/200\n",
      "139/139 [==============================] - 261s 2s/step - loss: 0.1348 - accuracy: 0.9500 - val_loss: 0.2713 - val_accuracy: 0.8976\n",
      "Epoch 147/200\n",
      "139/139 [==============================] - 259s 2s/step - loss: 0.1308 - accuracy: 0.9538 - val_loss: 0.2775 - val_accuracy: 0.8976\n",
      "Epoch 148/200\n",
      "139/139 [==============================] - 259s 2s/step - loss: 0.1248 - accuracy: 0.9559 - val_loss: 0.2778 - val_accuracy: 0.8985\n",
      "Epoch 149/200\n",
      "139/139 [==============================] - 257s 2s/step - loss: 0.1236 - accuracy: 0.9545 - val_loss: 0.2697 - val_accuracy: 0.9030\n",
      "Epoch 150/200\n",
      "139/139 [==============================] - 264s 2s/step - loss: 0.1258 - accuracy: 0.9538 - val_loss: 0.2792 - val_accuracy: 0.8949\n",
      "Epoch 151/200\n",
      "139/139 [==============================] - 266s 2s/step - loss: 0.1167 - accuracy: 0.9608 - val_loss: 0.2781 - val_accuracy: 0.8913\n",
      "Epoch 152/200\n",
      "139/139 [==============================] - 264s 2s/step - loss: 0.1277 - accuracy: 0.9516 - val_loss: 0.2790 - val_accuracy: 0.8967\n",
      "Epoch 153/200\n",
      "139/139 [==============================] - 268s 2s/step - loss: 0.1301 - accuracy: 0.9545 - val_loss: 0.2812 - val_accuracy: 0.8904\n",
      "Epoch 154/200\n",
      "139/139 [==============================] - 266s 2s/step - loss: 0.1313 - accuracy: 0.9543 - val_loss: 0.2775 - val_accuracy: 0.8922\n",
      "Epoch 155/200\n",
      "139/139 [==============================] - 272s 2s/step - loss: 0.1339 - accuracy: 0.9457 - val_loss: 0.2772 - val_accuracy: 0.8931\n",
      "Epoch 156/200\n",
      "139/139 [==============================] - 265s 2s/step - loss: 0.1196 - accuracy: 0.9584 - val_loss: 0.2862 - val_accuracy: 0.8922\n",
      "Epoch 157/200\n",
      "139/139 [==============================] - 264s 2s/step - loss: 0.1243 - accuracy: 0.9545 - val_loss: 0.2782 - val_accuracy: 0.8949\n",
      "Epoch 158/200\n",
      "139/139 [==============================] - 268s 2s/step - loss: 0.1237 - accuracy: 0.9529 - val_loss: 0.2761 - val_accuracy: 0.8976\n",
      "Epoch 159/200\n",
      "139/139 [==============================] - 269s 2s/step - loss: 0.1287 - accuracy: 0.9516 - val_loss: 0.2821 - val_accuracy: 0.8913\n",
      "Epoch 160/200\n",
      "139/139 [==============================] - 263s 2s/step - loss: 0.1183 - accuracy: 0.9559 - val_loss: 0.2795 - val_accuracy: 0.8922\n",
      "Epoch 161/200\n",
      "139/139 [==============================] - 264s 2s/step - loss: 0.1183 - accuracy: 0.9579 - val_loss: 0.2849 - val_accuracy: 0.8904\n",
      "Epoch 162/200\n",
      "139/139 [==============================] - 267s 2s/step - loss: 0.1253 - accuracy: 0.9513 - val_loss: 0.2876 - val_accuracy: 0.8931\n",
      "Epoch 163/200\n",
      "139/139 [==============================] - 264s 2s/step - loss: 0.1217 - accuracy: 0.9584 - val_loss: 0.2804 - val_accuracy: 0.8922\n",
      "Epoch 164/200\n",
      "139/139 [==============================] - 267s 2s/step - loss: 0.1167 - accuracy: 0.9595 - val_loss: 0.2791 - val_accuracy: 0.8967\n",
      "Epoch 165/200\n",
      "139/139 [==============================] - 265s 2s/step - loss: 0.1205 - accuracy: 0.9550 - val_loss: 0.2974 - val_accuracy: 0.8922\n",
      "Epoch 166/200\n",
      "139/139 [==============================] - 262s 2s/step - loss: 0.1217 - accuracy: 0.9586 - val_loss: 0.2870 - val_accuracy: 0.8913\n",
      "Epoch 167/200\n",
      "139/139 [==============================] - 456s 3s/step - loss: 0.1250 - accuracy: 0.9550 - val_loss: 0.2837 - val_accuracy: 0.8886\n",
      "Epoch 168/200\n",
      "139/139 [==============================] - 261s 2s/step - loss: 0.1249 - accuracy: 0.9547 - val_loss: 0.2875 - val_accuracy: 0.8931\n",
      "Epoch 169/200\n",
      "139/139 [==============================] - 260s 2s/step - loss: 0.1212 - accuracy: 0.9527 - val_loss: 0.2868 - val_accuracy: 0.8985\n",
      "Epoch 170/200\n",
      "139/139 [==============================] - 261s 2s/step - loss: 0.1150 - accuracy: 0.9617 - val_loss: 0.2775 - val_accuracy: 0.8949\n",
      "Epoch 171/200\n",
      "139/139 [==============================] - 266s 2s/step - loss: 0.1194 - accuracy: 0.9547 - val_loss: 0.2818 - val_accuracy: 0.8949\n",
      "Epoch 172/200\n",
      "139/139 [==============================] - 260s 2s/step - loss: 0.1157 - accuracy: 0.9570 - val_loss: 0.2877 - val_accuracy: 0.8985\n",
      "Epoch 173/200\n",
      "139/139 [==============================] - 258s 2s/step - loss: 0.1165 - accuracy: 0.9563 - val_loss: 0.2804 - val_accuracy: 0.8967\n",
      "Epoch 174/200\n",
      "139/139 [==============================] - 256s 2s/step - loss: 0.1171 - accuracy: 0.9586 - val_loss: 0.2841 - val_accuracy: 0.8949\n",
      "Epoch 175/200\n",
      "139/139 [==============================] - 254s 2s/step - loss: 0.1131 - accuracy: 0.9608 - val_loss: 0.2860 - val_accuracy: 0.8985\n",
      "Epoch 176/200\n",
      "139/139 [==============================] - 254s 2s/step - loss: 0.1072 - accuracy: 0.9599 - val_loss: 0.2829 - val_accuracy: 0.8985\n",
      "Epoch 177/200\n",
      "139/139 [==============================] - 259s 2s/step - loss: 0.1190 - accuracy: 0.9563 - val_loss: 0.2823 - val_accuracy: 0.9021\n",
      "Epoch 178/200\n",
      "139/139 [==============================] - 255s 2s/step - loss: 0.1210 - accuracy: 0.9545 - val_loss: 0.2752 - val_accuracy: 0.8994\n",
      "Epoch 179/200\n",
      "139/139 [==============================] - 254s 2s/step - loss: 0.1066 - accuracy: 0.9631 - val_loss: 0.2860 - val_accuracy: 0.9039\n",
      "Epoch 180/200\n",
      "139/139 [==============================] - 254s 2s/step - loss: 0.1064 - accuracy: 0.9631 - val_loss: 0.2862 - val_accuracy: 0.8985\n",
      "Epoch 181/200\n",
      "139/139 [==============================] - 253s 2s/step - loss: 0.1172 - accuracy: 0.9593 - val_loss: 0.2795 - val_accuracy: 0.9030\n",
      "Epoch 182/200\n",
      "139/139 [==============================] - 255s 2s/step - loss: 0.1203 - accuracy: 0.9568 - val_loss: 0.2825 - val_accuracy: 0.8949\n",
      "Epoch 183/200\n",
      "139/139 [==============================] - 254s 2s/step - loss: 0.1097 - accuracy: 0.9620 - val_loss: 0.2847 - val_accuracy: 0.8967\n",
      "Epoch 184/200\n",
      "139/139 [==============================] - 256s 2s/step - loss: 0.1134 - accuracy: 0.9588 - val_loss: 0.2840 - val_accuracy: 0.8976\n",
      "Epoch 185/200\n",
      "139/139 [==============================] - 257s 2s/step - loss: 0.1046 - accuracy: 0.9636 - val_loss: 0.2870 - val_accuracy: 0.8994\n",
      "Epoch 186/200\n",
      "139/139 [==============================] - 255s 2s/step - loss: 0.1020 - accuracy: 0.9622 - val_loss: 0.2910 - val_accuracy: 0.8940\n",
      "Epoch 187/200\n",
      "139/139 [==============================] - 253s 2s/step - loss: 0.1133 - accuracy: 0.9581 - val_loss: 0.2930 - val_accuracy: 0.8886\n",
      "Epoch 188/200\n",
      "139/139 [==============================] - 256s 2s/step - loss: 0.1135 - accuracy: 0.9579 - val_loss: 0.2869 - val_accuracy: 0.8922\n",
      "Epoch 189/200\n",
      "139/139 [==============================] - 254s 2s/step - loss: 0.1053 - accuracy: 0.9640 - val_loss: 0.2892 - val_accuracy: 0.8994\n",
      "Epoch 190/200\n",
      "139/139 [==============================] - 255s 2s/step - loss: 0.1053 - accuracy: 0.9638 - val_loss: 0.2874 - val_accuracy: 0.8931\n",
      "Epoch 191/200\n",
      "139/139 [==============================] - 256s 2s/step - loss: 0.1093 - accuracy: 0.9604 - val_loss: 0.2846 - val_accuracy: 0.8886\n",
      "Epoch 192/200\n",
      "139/139 [==============================] - 287s 2s/step - loss: 0.1077 - accuracy: 0.9622 - val_loss: 0.2818 - val_accuracy: 0.8958\n",
      "Epoch 193/200\n",
      "139/139 [==============================] - 256s 2s/step - loss: 0.1088 - accuracy: 0.9593 - val_loss: 0.2777 - val_accuracy: 0.8967\n",
      "Epoch 194/200\n",
      "139/139 [==============================] - 254s 2s/step - loss: 0.1006 - accuracy: 0.9670 - val_loss: 0.2890 - val_accuracy: 0.8994\n",
      "Epoch 195/200\n",
      "139/139 [==============================] - 277s 2s/step - loss: 0.1029 - accuracy: 0.9649 - val_loss: 0.2795 - val_accuracy: 0.8949\n",
      "Epoch 196/200\n",
      "139/139 [==============================] - 262s 2s/step - loss: 0.0994 - accuracy: 0.9665 - val_loss: 0.3024 - val_accuracy: 0.8922\n",
      "Epoch 197/200\n",
      "139/139 [==============================] - 268s 2s/step - loss: 0.1039 - accuracy: 0.9611 - val_loss: 0.2887 - val_accuracy: 0.8931\n",
      "Epoch 198/200\n",
      "139/139 [==============================] - 341s 2s/step - loss: 0.1045 - accuracy: 0.9584 - val_loss: 0.2951 - val_accuracy: 0.8967\n",
      "Epoch 199/200\n",
      "139/139 [==============================] - 490s 4s/step - loss: 0.1057 - accuracy: 0.9572 - val_loss: 0.2816 - val_accuracy: 0.9003\n",
      "Epoch 200/200\n",
      "139/139 [==============================] - 401s 3s/step - loss: 0.1070 - accuracy: 0.9629 - val_loss: 0.2830 - val_accuracy: 0.8949\n"
     ]
    }
   ],
   "source": [
    "H = model.fit(\n",
    "    aug.flow(X_train, y_train, batch_size=BS),\n",
    "    steps_per_epoch=len(X_train) // BS,\n",
    "    validation_data=(X_val, y_val),\n",
    "    validation_steps=len(X_val) // BS,\n",
    "    epochs=EPOCHS)"
   ]
  },
  {
   "cell_type": "code",
   "execution_count": 24,
   "id": "f8e1c3fe",
   "metadata": {},
   "outputs": [
    {
     "data": {
      "image/png": "[encoded data removed]",
      "text/plain": [
       "<Figure size 720x288 with 2 Axes>"
      ]
     },
     "metadata": {
      "needs_background": "light"
     },
     "output_type": "display_data"
    }
   ],
   "source": [
    "acc = H.history['accuracy']\n",
    "val_acc = H.history['val_accuracy']\n",
    "\n",
    "loss = H.history['loss']\n",
    "val_loss = H.history['val_loss']\n",
    "\n",
    "epochs=200\n",
    "epochs_range = range(epochs)\n",
    "\n",
    "plt.figure(figsize=(10,4))\n",
    "\n",
    "plt.subplot(1,2,1)\n",
    "plt.plot(epochs_range, acc, label='Training Accuracy') \n",
    "plt.plot(epochs_range, val_acc, label='Validation Accuracy')  \n",
    "plt.legend(loc='lower right')\n",
    "plt.title('Training and Validation Accuracy')\n",
    "\n",
    "plt.subplot(1, 2, 2)\n",
    "plt.plot(epochs_range, loss, label='Training Loss')\n",
    "plt.plot(epochs_range, val_loss, label='Validation Loss')\n",
    "plt.legend(loc='upper right')\n",
    "plt.title('Training and Validation Loss')\n",
    "\n",
    "plt.show()"
   ]
  },
  {
   "cell_type": "code",
   "execution_count": 25,
   "id": "46fd92af",
   "metadata": {},
   "outputs": [
    {
     "name": "stderr",
     "output_type": "stream",
     "text": [
      "C:\\Users\\shaha\\anaconda3\\lib\\site-packages\\keras\\engine\\functional.py:1410: CustomMaskWarning: Custom mask layers require a config and must override get_config. When loading, the custom mask layer must be passed to the custom_objects argument.\n",
      "  layer_config = serialize_layer_fn(layer)\n"
     ]
    },
    {
     "name": "stdout",
     "output_type": "stream",
     "text": [
      "Model Saved!\n"
     ]
    }
   ],
   "source": [
    "model.save(\"smoking_modelMN200.h5\")\n",
    "print('Model Saved!')"
   ]
  },
  {
   "cell_type": "code",
   "execution_count": 26,
   "id": "9600282b",
   "metadata": {},
   "outputs": [],
   "source": [
    "from keras.models import load_model\n",
    "Model2 = load_model(\"smoking_modelMN200.h5\")"
   ]
  },
  {
   "cell_type": "code",
   "execution_count": 29,
   "id": "ca97934b",
   "metadata": {},
   "outputs": [
    {
     "name": "stdout",
     "output_type": "stream",
     "text": [
      "13/13 [==============================] - 18s 1s/step - loss: 0.1973 - accuracy: 0.9323\n"
     ]
    },
    {
     "data": {
      "text/plain": [
       "[0.1972893476486206, 0.932330846786499]"
      ]
     },
     "execution_count": 29,
     "metadata": {},
     "output_type": "execute_result"
    }
   ],
   "source": [
    "Model2.evaluate(X_test,y_test)"
   ]
  },
  {
   "cell_type": "markdown",
   "id": "0bc74a6e",
   "metadata": {},
   "source": [
    "### The best model is MobileNet with epoch = 200"
   ]
  }
 ],
 "metadata": {
  "kernelspec": {
   "display_name": "Python 3",
   "language": "python",
   "name": "python3"
  },
  "language_info": {
   "codemirror_mode": {
    "name": "ipython",
    "version": 3
   },
   "file_extension": ".py",
   "mimetype": "text/x-python",
   "name": "python",
   "nbconvert_exporter": "python",
   "pygments_lexer": "ipython3",
   "version": "3.8.8"
  }
 },
 "nbformat": 4,
 "nbformat_minor": 5
}
